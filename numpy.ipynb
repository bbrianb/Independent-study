{
 "cells": [
  {
   "metadata": {},
   "cell_type": "markdown",
   "source": [
    "According to Python, \"NumPy is the fundamental package for scientific computing with Python.\"\n",
    "It's used for working with arrays. NumPy arrays can be processed faster than Python lists."
   ],
   "id": "1d26a23a690bd234"
  },
  {
   "metadata": {
    "ExecuteTime": {
     "end_time": "2024-09-21T18:05:29.492537Z",
     "start_time": "2024-09-21T18:05:29.487671Z"
    }
   },
   "cell_type": "code",
   "source": [
    "# the conventional way to install numpy\n",
    "import numpy as np\n",
    "np.__version__"
   ],
   "id": "34ba24bbbcfbb66a",
   "outputs": [
    {
     "data": {
      "text/plain": [
       "'1.26.4'"
      ]
     },
     "execution_count": 18,
     "metadata": {},
     "output_type": "execute_result"
    }
   ],
   "execution_count": 18
  },
  {
   "metadata": {
    "ExecuteTime": {
     "end_time": "2024-09-21T18:05:29.534177Z",
     "start_time": "2024-09-21T18:05:29.528545Z"
    }
   },
   "cell_type": "code",
   "source": [
    "arr = np.array([1, 2, 3, 4])\n",
    "arr"
   ],
   "id": "d3c085ab4543127e",
   "outputs": [
    {
     "data": {
      "text/plain": [
       "array([1, 2, 3, 4])"
      ]
     },
     "execution_count": 19,
     "metadata": {},
     "output_type": "execute_result"
    }
   ],
   "execution_count": 19
  },
  {
   "metadata": {},
   "cell_type": "markdown",
   "source": "Arrays have dimensions. 0-D arrays are just numbers. They're called scalars. 1-D arrays have 0-D arrays as all their elements. 2-D arrays have 1-D arrays as its elements. These can be used to represent matrices.",
   "id": "1f62faff8158e751"
  },
  {
   "metadata": {
    "ExecuteTime": {
     "end_time": "2024-09-21T18:05:29.572244Z",
     "start_time": "2024-09-21T18:05:29.567013Z"
    }
   },
   "cell_type": "code",
   "source": [
    "twoD = np.array([[1, 2, 3], [4, 5, 6]])\n",
    "# if there's two sets of brackets, then there are two dimensions\n",
    "twoD"
   ],
   "id": "c8cdb9daf4b784e8",
   "outputs": [
    {
     "data": {
      "text/plain": [
       "array([[1, 2, 3],\n",
       "       [4, 5, 6]])"
      ]
     },
     "execution_count": 20,
     "metadata": {},
     "output_type": "execute_result"
    }
   ],
   "execution_count": 20
  },
  {
   "metadata": {
    "ExecuteTime": {
     "end_time": "2024-09-21T18:05:29.580401Z",
     "start_time": "2024-09-21T18:05:29.575055Z"
    }
   },
   "cell_type": "code",
   "source": "arr.ndim, twoD.ndim",
   "id": "19926296a4155f61",
   "outputs": [
    {
     "data": {
      "text/plain": [
       "(1, 2)"
      ]
     },
     "execution_count": 21,
     "metadata": {},
     "output_type": "execute_result"
    }
   ],
   "execution_count": 21
  },
  {
   "metadata": {
    "ExecuteTime": {
     "end_time": "2024-09-21T18:05:29.599099Z",
     "start_time": "2024-09-21T18:05:29.593976Z"
    }
   },
   "cell_type": "code",
   "source": "arr[0], arr[1]",
   "id": "f428125e32843477",
   "outputs": [
    {
     "data": {
      "text/plain": [
       "(1, 2)"
      ]
     },
     "execution_count": 22,
     "metadata": {},
     "output_type": "execute_result"
    }
   ],
   "execution_count": 22
  },
  {
   "metadata": {
    "ExecuteTime": {
     "end_time": "2024-09-21T18:05:29.646902Z",
     "start_time": "2024-09-21T18:05:29.641483Z"
    }
   },
   "cell_type": "code",
   "source": "twoD[0], twoD[0, 0]",
   "id": "e5e23db80660a8a2",
   "outputs": [
    {
     "data": {
      "text/plain": [
       "(array([1, 2, 3]), 1)"
      ]
     },
     "execution_count": 23,
     "metadata": {},
     "output_type": "execute_result"
    }
   ],
   "execution_count": 23
  },
  {
   "metadata": {
    "ExecuteTime": {
     "end_time": "2024-09-21T18:05:29.666686Z",
     "start_time": "2024-09-21T18:05:29.660993Z"
    }
   },
   "cell_type": "code",
   "source": [
    "arr2 = np.array([[[1, 2, 3], [4, 5, 6]], [[7, 8, 9], [10, 11, 12]]])\n",
    "arr2.ndim"
   ],
   "id": "9100666ca180e8ce",
   "outputs": [
    {
     "data": {
      "text/plain": [
       "3"
      ]
     },
     "execution_count": 24,
     "metadata": {},
     "output_type": "execute_result"
    }
   ],
   "execution_count": 24
  },
  {
   "metadata": {
    "ExecuteTime": {
     "end_time": "2024-09-21T18:05:29.691287Z",
     "start_time": "2024-09-21T18:05:29.683954Z"
    }
   },
   "cell_type": "code",
   "source": "arr2, arr2[1], arr2[1, 1], arr2[1, 1, 1]",
   "id": "5a7961e4a1cf6b77",
   "outputs": [
    {
     "data": {
      "text/plain": [
       "(array([[[ 1,  2,  3],\n",
       "         [ 4,  5,  6]],\n",
       " \n",
       "        [[ 7,  8,  9],\n",
       "         [10, 11, 12]]]),\n",
       " array([[ 7,  8,  9],\n",
       "        [10, 11, 12]]),\n",
       " array([10, 11, 12]),\n",
       " 11)"
      ]
     },
     "execution_count": 25,
     "metadata": {},
     "output_type": "execute_result"
    }
   ],
   "execution_count": 25
  },
  {
   "metadata": {
    "ExecuteTime": {
     "end_time": "2024-09-21T18:06:51.018935Z",
     "start_time": "2024-09-21T18:06:51.011769Z"
    }
   },
   "cell_type": "code",
   "source": [
    "arr = np.array([1, 2, 3, 4, 5, 6, 7])\n",
    "# slicing\n",
    "arr[2:5]"
   ],
   "id": "fed74a50253428d5",
   "outputs": [
    {
     "data": {
      "text/plain": [
       "array([3, 4, 5])"
      ]
     },
     "execution_count": 26,
     "metadata": {},
     "output_type": "execute_result"
    }
   ],
   "execution_count": 26
  },
  {
   "metadata": {
    "ExecuteTime": {
     "end_time": "2024-09-21T18:07:47.323934Z",
     "start_time": "2024-09-21T18:07:47.314654Z"
    }
   },
   "cell_type": "code",
   "source": "arr[1:6:2]",
   "id": "f4fd158d42689c74",
   "outputs": [
    {
     "data": {
      "text/plain": [
       "array([2, 4, 6])"
      ]
     },
     "execution_count": 30,
     "metadata": {},
     "output_type": "execute_result"
    }
   ],
   "execution_count": 30
  },
  {
   "metadata": {
    "ExecuteTime": {
     "end_time": "2024-09-21T18:09:25.790234Z",
     "start_time": "2024-09-21T18:09:25.785056Z"
    }
   },
   "cell_type": "code",
   "source": [
    "arr = np.array([[1, 2, 3, 4, 5], [6, 7, 8, 9, 10]])\n",
    "arr[1, 1:4:2]"
   ],
   "id": "53b81f2fbfd788f1",
   "outputs": [
    {
     "data": {
      "text/plain": [
       "array([7, 9])"
      ]
     },
     "execution_count": 33,
     "metadata": {},
     "output_type": "execute_result"
    }
   ],
   "execution_count": 33
  },
  {
   "metadata": {
    "ExecuteTime": {
     "end_time": "2024-09-21T18:10:21.607979Z",
     "start_time": "2024-09-21T18:10:21.602334Z"
    }
   },
   "cell_type": "code",
   "source": "arr[0:2, 3]",
   "id": "2cdd146b26e9ee49",
   "outputs": [
    {
     "data": {
      "text/plain": [
       "array([4, 9])"
      ]
     },
     "execution_count": 37,
     "metadata": {},
     "output_type": "execute_result"
    }
   ],
   "execution_count": 37
  },
  {
   "metadata": {
    "ExecuteTime": {
     "end_time": "2024-09-21T18:10:39.608928Z",
     "start_time": "2024-09-21T18:10:39.601596Z"
    }
   },
   "cell_type": "code",
   "source": "arr[0:2, 1:4:2]",
   "id": "7a67c49167ffb003",
   "outputs": [
    {
     "data": {
      "text/plain": [
       "array([[2, 4],\n",
       "       [7, 9]])"
      ]
     },
     "execution_count": 38,
     "metadata": {},
     "output_type": "execute_result"
    }
   ],
   "execution_count": 38
  },
  {
   "metadata": {},
   "cell_type": "markdown",
   "source": [
    "NumPy has different data types.\n",
    "i - integer\n",
    "b - boolean\n",
    "u - unsigned integer\n",
    "f - float\n",
    "c - complex float\n",
    "m - timedelta\n",
    "M - datetime\n",
    "O - object\n",
    "S - string\n",
    "U - unicode string\n",
    "V - fixed chunk of memory for other type ( void )"
   ],
   "id": "a0f3d43fdf32e76d"
  },
  {
   "metadata": {
    "ExecuteTime": {
     "end_time": "2024-09-21T18:13:51.584736Z",
     "start_time": "2024-09-21T18:13:51.579113Z"
    }
   },
   "cell_type": "code",
   "source": [
    "arr = np.array([1, 2, 3])\n",
    "arr, arr.dtype"
   ],
   "id": "4171271193406c1a",
   "outputs": [
    {
     "data": {
      "text/plain": [
       "(array([1, 2, 3]), dtype('int32'))"
      ]
     },
     "execution_count": 71,
     "metadata": {},
     "output_type": "execute_result"
    }
   ],
   "execution_count": 71
  },
  {
   "metadata": {
    "ExecuteTime": {
     "end_time": "2024-09-21T18:13:45.742703Z",
     "start_time": "2024-09-21T18:13:45.736083Z"
    }
   },
   "cell_type": "code",
   "source": [
    "arr = np.array([1, 2, 3], dtype='float')\n",
    "arr, arr.dtype"
   ],
   "id": "4d9ca509456c580d",
   "outputs": [
    {
     "data": {
      "text/plain": [
       "(array([1., 2., 3.]), dtype('float64'))"
      ]
     },
     "execution_count": 70,
     "metadata": {},
     "output_type": "execute_result"
    }
   ],
   "execution_count": 70
  },
  {
   "metadata": {
    "ExecuteTime": {
     "end_time": "2024-09-21T18:14:42.888084Z",
     "start_time": "2024-09-21T18:14:42.882596Z"
    }
   },
   "cell_type": "code",
   "source": [
    "arr2 = arr.astype('int')\n",
    "arr2, arr.dtype"
   ],
   "id": "5eb07a412cc12abf",
   "outputs": [
    {
     "data": {
      "text/plain": [
       "(array([1, 2, 3]), dtype('int32'))"
      ]
     },
     "execution_count": 74,
     "metadata": {},
     "output_type": "execute_result"
    }
   ],
   "execution_count": 74
  },
  {
   "metadata": {},
   "cell_type": "markdown",
   "source": "Copies do not affect original data. Views do affect original data and vice versa.",
   "id": "c877635e2a37eeab"
  },
  {
   "metadata": {},
   "cell_type": "markdown",
   "source": "",
   "id": "d3d45f1494fc9e86"
  },
  {
   "metadata": {
    "ExecuteTime": {
     "end_time": "2024-09-21T18:17:43.285527Z",
     "start_time": "2024-09-21T18:17:43.280008Z"
    }
   },
   "cell_type": "code",
   "source": [
    "arr = np.array([1, 2, 3])\n",
    "arr2 = arr.copy()\n",
    "arr2[0] = 7\n",
    "arr, arr2"
   ],
   "id": "c6dd5deb82c01edf",
   "outputs": [
    {
     "data": {
      "text/plain": [
       "(array([1, 2, 3]), array([7, 2, 3]))"
      ]
     },
     "execution_count": 76,
     "metadata": {},
     "output_type": "execute_result"
    }
   ],
   "execution_count": 76
  },
  {
   "metadata": {
    "ExecuteTime": {
     "end_time": "2024-09-21T18:18:30.366885Z",
     "start_time": "2024-09-21T18:18:30.360207Z"
    }
   },
   "cell_type": "code",
   "source": [
    "arr3 = arr2.view()\n",
    "arr3[1] = 0\n",
    "arr2, arr3"
   ],
   "id": "f5ff4d63d234d430",
   "outputs": [
    {
     "data": {
      "text/plain": [
       "(array([7, 0, 3]), array([7, 0, 3]))"
      ]
     },
     "execution_count": 77,
     "metadata": {},
     "output_type": "execute_result"
    }
   ],
   "execution_count": 77
  },
  {
   "metadata": {
    "ExecuteTime": {
     "end_time": "2024-09-21T18:19:29.803936Z",
     "start_time": "2024-09-21T18:19:29.799328Z"
    }
   },
   "cell_type": "code",
   "source": [
    "# if the base attribute of an array is None, then the array is a copy\n",
    "arr.base, arr2.base, arr3.base"
   ],
   "id": "b126eb51afd6f3c6",
   "outputs": [
    {
     "data": {
      "text/plain": [
       "(None, None, array([7, 0, 3]))"
      ]
     },
     "execution_count": 78,
     "metadata": {},
     "output_type": "execute_result"
    }
   ],
   "execution_count": 78
  },
  {
   "metadata": {
    "ExecuteTime": {
     "end_time": "2024-09-21T18:35:57.376377Z",
     "start_time": "2024-09-21T18:35:57.370750Z"
    }
   },
   "cell_type": "code",
   "source": [
    "arr = np.array([1,2,3])\n",
    "arr2 = np.array([[1,2,3], [4, 5, 6]])\n",
    "arr.shape, arr2.shape"
   ],
   "id": "75a725f7a293bd4",
   "outputs": [
    {
     "data": {
      "text/plain": [
       "((3,), (2, 3))"
      ]
     },
     "execution_count": 118,
     "metadata": {},
     "output_type": "execute_result"
    }
   ],
   "execution_count": 118
  },
  {
   "metadata": {
    "ExecuteTime": {
     "end_time": "2024-09-21T18:36:06.404251Z",
     "start_time": "2024-09-21T18:36:06.399139Z"
    }
   },
   "cell_type": "code",
   "source": [
    "arr = np.array([1, 2, 3, 4], ndmin=3)\n",
    "arr.ndim, arr.shape"
   ],
   "id": "558169b967a1bab5",
   "outputs": [
    {
     "data": {
      "text/plain": [
       "(3, (1, 1, 4))"
      ]
     },
     "execution_count": 121,
     "metadata": {},
     "output_type": "execute_result"
    }
   ],
   "execution_count": 121
  },
  {
   "metadata": {
    "ExecuteTime": {
     "end_time": "2024-09-21T18:39:53.352409Z",
     "start_time": "2024-09-21T18:39:53.347250Z"
    }
   },
   "cell_type": "code",
   "source": [
    "arr = np.array([1, 2, 3, 4, 5, 6, 7, 8, 9, 10, 11, 12])\n",
    "arr2 = arr.reshape(4, 3)\n",
    "print((arr, arr.shape, arr2, arr2.shape))"
   ],
   "id": "8db1124130853a5",
   "outputs": [
    {
     "name": "stdout",
     "output_type": "stream",
     "text": [
      "(array([ 1,  2,  3,  4,  5,  6,  7,  8,  9, 10, 11, 12]), (12,), array([[ 1,  2,  3],\n",
      "       [ 4,  5,  6],\n",
      "       [ 7,  8,  9],\n",
      "       [10, 11, 12]]), (4, 3))\n"
     ]
    }
   ],
   "execution_count": 132
  },
  {
   "metadata": {
    "ExecuteTime": {
     "end_time": "2024-09-21T18:41:54.086541Z",
     "start_time": "2024-09-21T18:41:54.081032Z"
    }
   },
   "cell_type": "code",
   "source": [
    "arr = np.array([1, 2, 3, 4])\n",
    "arr2 = arr.reshape(2, 2)\n",
    "# arr2 is a view\n",
    "arr2.base"
   ],
   "id": "ec57f5698ee2873f",
   "outputs": [
    {
     "data": {
      "text/plain": [
       "array([1, 2, 3, 4])"
      ]
     },
     "execution_count": 135,
     "metadata": {},
     "output_type": "execute_result"
    }
   ],
   "execution_count": 135
  },
  {
   "metadata": {
    "ExecuteTime": {
     "end_time": "2024-09-21T18:44:44.484116Z",
     "start_time": "2024-09-21T18:44:44.475513Z"
    }
   },
   "cell_type": "code",
   "source": [
    "arr = np.array([1, 2, 3, 4, 5, 6, 7, 8])\n",
    "# NumPy will figure out what the missing dimension needs to be\n",
    "arr2 = arr.reshape(2, 2, -1)\n",
    "arr2"
   ],
   "id": "810b8196063a1a49",
   "outputs": [
    {
     "data": {
      "text/plain": [
       "array([[[1, 2],\n",
       "        [3, 4]],\n",
       "\n",
       "       [[5, 6],\n",
       "        [7, 8]]])"
      ]
     },
     "execution_count": 141,
     "metadata": {},
     "output_type": "execute_result"
    }
   ],
   "execution_count": 141
  },
  {
   "metadata": {
    "ExecuteTime": {
     "end_time": "2024-09-21T18:46:24.887982Z",
     "start_time": "2024-09-21T18:46:24.883161Z"
    }
   },
   "cell_type": "code",
   "source": "arr2.reshape(-1)",
   "id": "b300d2e0a5ef019",
   "outputs": [
    {
     "data": {
      "text/plain": [
       "array([1, 2, 3, 4, 5, 6, 7, 8])"
      ]
     },
     "execution_count": 143,
     "metadata": {},
     "output_type": "execute_result"
    }
   ],
   "execution_count": 143
  },
  {
   "metadata": {
    "ExecuteTime": {
     "end_time": "2024-09-21T18:47:54.814117Z",
     "start_time": "2024-09-21T18:47:54.808883Z"
    }
   },
   "cell_type": "code",
   "source": [
    "arr = np.array([[[1, 2, 3], [4, 5, 6]], [[7, 8, 9], [10, 11, 12]]])\n",
    "for i in np.nditer(arr):\n",
    "    print(i)"
   ],
   "id": "ced188f1b4374c2f",
   "outputs": [
    {
     "name": "stdout",
     "output_type": "stream",
     "text": [
      "1\n",
      "2\n",
      "3\n",
      "4\n",
      "5\n",
      "6\n",
      "7\n",
      "8\n",
      "9\n",
      "10\n",
      "11\n",
      "12\n"
     ]
    }
   ],
   "execution_count": 148
  },
  {
   "metadata": {
    "ExecuteTime": {
     "end_time": "2024-09-21T18:49:28.158028Z",
     "start_time": "2024-09-21T18:49:28.153521Z"
    }
   },
   "cell_type": "code",
   "source": [
    "# we have to buffer so numpy has time to change from int to float\n",
    "for i in np.nditer(arr, flags=['buffered'], op_dtypes='float'):\n",
    "    print(i)"
   ],
   "id": "b2460ef294cf97cc",
   "outputs": [
    {
     "name": "stdout",
     "output_type": "stream",
     "text": [
      "1.0\n",
      "2.0\n",
      "3.0\n",
      "4.0\n",
      "5.0\n",
      "6.0\n",
      "7.0\n",
      "8.0\n",
      "9.0\n",
      "10.0\n",
      "11.0\n",
      "12.0\n"
     ]
    }
   ],
   "execution_count": 151
  },
  {
   "metadata": {
    "ExecuteTime": {
     "end_time": "2024-09-21T18:50:31.687618Z",
     "start_time": "2024-09-21T18:50:31.683Z"
    }
   },
   "cell_type": "code",
   "source": [
    "for i in arr[:, :, 1]:\n",
    "    print(i)"
   ],
   "id": "d73095188cf25054",
   "outputs": [
    {
     "name": "stdout",
     "output_type": "stream",
     "text": [
      "[2 5]\n",
      "[ 8 11]\n"
     ]
    }
   ],
   "execution_count": 154
  }
 ],
 "metadata": {
  "kernelspec": {
   "display_name": "Python 3",
   "language": "python",
   "name": "python3"
  },
  "language_info": {
   "codemirror_mode": {
    "name": "ipython",
    "version": 2
   },
   "file_extension": ".py",
   "mimetype": "text/x-python",
   "name": "python",
   "nbconvert_exporter": "python",
   "pygments_lexer": "ipython2",
   "version": "2.7.6"
  }
 },
 "nbformat": 4,
 "nbformat_minor": 5
}
