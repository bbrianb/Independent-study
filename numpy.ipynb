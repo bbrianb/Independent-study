{
 "cells": [
  {
   "metadata": {},
   "cell_type": "markdown",
   "source": [
    "According to Python, \"NumPy is the fundamental package for scientific computing with Python.\"\n",
    "It's used for working with arrays. NumPy arrays can be processed faster than Python lists."
   ],
   "id": "1d26a23a690bd234"
  },
  {
   "metadata": {
    "ExecuteTime": {
     "end_time": "2024-09-25T01:45:42.247867Z",
     "start_time": "2024-09-25T01:45:41.902044Z"
    }
   },
   "cell_type": "code",
   "source": [
    "# the conventional way to install numpy\n",
    "import numpy as np\n",
    "np.__version__"
   ],
   "id": "34ba24bbbcfbb66a",
   "outputs": [
    {
     "data": {
      "text/plain": [
       "'2.0.1'"
      ]
     },
     "execution_count": 2,
     "metadata": {},
     "output_type": "execute_result"
    }
   ],
   "execution_count": 2
  },
  {
   "metadata": {
    "ExecuteTime": {
     "end_time": "2024-09-25T01:45:42.257382Z",
     "start_time": "2024-09-25T01:45:42.248869Z"
    }
   },
   "cell_type": "code",
   "source": [
    "arr = np.array([1, 2, 3, 4])\n",
    "arr"
   ],
   "id": "d3c085ab4543127e",
   "outputs": [
    {
     "data": {
      "text/plain": [
       "array([1, 2, 3, 4])"
      ]
     },
     "execution_count": 3,
     "metadata": {},
     "output_type": "execute_result"
    }
   ],
   "execution_count": 3
  },
  {
   "metadata": {},
   "cell_type": "markdown",
   "source": "Arrays have dimensions. 0-D arrays are just numbers. They're called scalars. 1-D arrays have 0-D arrays as all their elements. 2-D arrays have 1-D arrays as its elements. These can be used to represent matrices.",
   "id": "1f62faff8158e751"
  },
  {
   "metadata": {
    "ExecuteTime": {
     "end_time": "2024-09-25T01:45:42.264227Z",
     "start_time": "2024-09-25T01:45:42.259381Z"
    }
   },
   "cell_type": "code",
   "source": [
    "twoD = np.array([[1, 2, 3], [4, 5, 6]])\n",
    "# if there's two sets of brackets, then there are two dimensions\n",
    "twoD"
   ],
   "id": "c8cdb9daf4b784e8",
   "outputs": [
    {
     "data": {
      "text/plain": [
       "array([[1, 2, 3],\n",
       "       [4, 5, 6]])"
      ]
     },
     "execution_count": 4,
     "metadata": {},
     "output_type": "execute_result"
    }
   ],
   "execution_count": 4
  },
  {
   "metadata": {
    "ExecuteTime": {
     "end_time": "2024-09-25T01:45:42.271132Z",
     "start_time": "2024-09-25T01:45:42.265229Z"
    }
   },
   "cell_type": "code",
   "source": "arr.ndim, twoD.ndim",
   "id": "19926296a4155f61",
   "outputs": [
    {
     "data": {
      "text/plain": [
       "(1, 2)"
      ]
     },
     "execution_count": 5,
     "metadata": {},
     "output_type": "execute_result"
    }
   ],
   "execution_count": 5
  },
  {
   "metadata": {
    "ExecuteTime": {
     "end_time": "2024-09-25T01:45:42.277491Z",
     "start_time": "2024-09-25T01:45:42.272350Z"
    }
   },
   "cell_type": "code",
   "source": "arr[0], arr[1]",
   "id": "f428125e32843477",
   "outputs": [
    {
     "data": {
      "text/plain": [
       "(np.int64(1), np.int64(2))"
      ]
     },
     "execution_count": 6,
     "metadata": {},
     "output_type": "execute_result"
    }
   ],
   "execution_count": 6
  },
  {
   "metadata": {
    "ExecuteTime": {
     "end_time": "2024-09-25T01:45:42.282137Z",
     "start_time": "2024-09-25T01:45:42.278492Z"
    }
   },
   "cell_type": "code",
   "source": "twoD[0], twoD[0, 0]",
   "id": "e5e23db80660a8a2",
   "outputs": [
    {
     "data": {
      "text/plain": [
       "(array([1, 2, 3]), np.int64(1))"
      ]
     },
     "execution_count": 7,
     "metadata": {},
     "output_type": "execute_result"
    }
   ],
   "execution_count": 7
  },
  {
   "metadata": {
    "ExecuteTime": {
     "end_time": "2024-09-25T01:45:42.288048Z",
     "start_time": "2024-09-25T01:45:42.284138Z"
    }
   },
   "cell_type": "code",
   "source": [
    "arr2 = np.array([[[1, 2, 3], [4, 5, 6]], [[7, 8, 9], [10, 11, 12]]])\n",
    "arr2.ndim"
   ],
   "id": "9100666ca180e8ce",
   "outputs": [
    {
     "data": {
      "text/plain": [
       "3"
      ]
     },
     "execution_count": 8,
     "metadata": {},
     "output_type": "execute_result"
    }
   ],
   "execution_count": 8
  },
  {
   "metadata": {
    "ExecuteTime": {
     "end_time": "2024-09-25T01:45:42.293420Z",
     "start_time": "2024-09-25T01:45:42.289048Z"
    }
   },
   "cell_type": "code",
   "source": "arr2, arr2[1], arr2[1, 1], arr2[1, 1, 1]",
   "id": "5a7961e4a1cf6b77",
   "outputs": [
    {
     "data": {
      "text/plain": [
       "(array([[[ 1,  2,  3],\n",
       "         [ 4,  5,  6]],\n",
       " \n",
       "        [[ 7,  8,  9],\n",
       "         [10, 11, 12]]]),\n",
       " array([[ 7,  8,  9],\n",
       "        [10, 11, 12]]),\n",
       " array([10, 11, 12]),\n",
       " np.int64(11))"
      ]
     },
     "execution_count": 9,
     "metadata": {},
     "output_type": "execute_result"
    }
   ],
   "execution_count": 9
  },
  {
   "metadata": {
    "ExecuteTime": {
     "end_time": "2024-09-25T01:45:42.300325Z",
     "start_time": "2024-09-25T01:45:42.295418Z"
    }
   },
   "cell_type": "code",
   "source": [
    "arr = np.array([1, 2, 3, 4, 5, 6, 7])\n",
    "# slicing\n",
    "arr[2:5]"
   ],
   "id": "fed74a50253428d5",
   "outputs": [
    {
     "data": {
      "text/plain": [
       "array([3, 4, 5])"
      ]
     },
     "execution_count": 10,
     "metadata": {},
     "output_type": "execute_result"
    }
   ],
   "execution_count": 10
  },
  {
   "metadata": {
    "ExecuteTime": {
     "end_time": "2024-09-25T01:45:42.306490Z",
     "start_time": "2024-09-25T01:45:42.301478Z"
    }
   },
   "cell_type": "code",
   "source": "arr[1:6:2]",
   "id": "f4fd158d42689c74",
   "outputs": [
    {
     "data": {
      "text/plain": [
       "array([2, 4, 6])"
      ]
     },
     "execution_count": 11,
     "metadata": {},
     "output_type": "execute_result"
    }
   ],
   "execution_count": 11
  },
  {
   "metadata": {
    "ExecuteTime": {
     "end_time": "2024-09-25T01:45:42.313028Z",
     "start_time": "2024-09-25T01:45:42.307491Z"
    }
   },
   "cell_type": "code",
   "source": [
    "arr = np.array([[1, 2, 3, 4, 5], [6, 7, 8, 9, 10]])\n",
    "arr[1, 1:4:2]"
   ],
   "id": "53b81f2fbfd788f1",
   "outputs": [
    {
     "data": {
      "text/plain": [
       "array([7, 9])"
      ]
     },
     "execution_count": 12,
     "metadata": {},
     "output_type": "execute_result"
    }
   ],
   "execution_count": 12
  },
  {
   "metadata": {
    "ExecuteTime": {
     "end_time": "2024-09-25T01:45:42.318235Z",
     "start_time": "2024-09-25T01:45:42.314031Z"
    }
   },
   "cell_type": "code",
   "source": "arr[0:2, 3]",
   "id": "2cdd146b26e9ee49",
   "outputs": [
    {
     "data": {
      "text/plain": [
       "array([4, 9])"
      ]
     },
     "execution_count": 13,
     "metadata": {},
     "output_type": "execute_result"
    }
   ],
   "execution_count": 13
  },
  {
   "metadata": {
    "ExecuteTime": {
     "end_time": "2024-09-25T01:45:42.323555Z",
     "start_time": "2024-09-25T01:45:42.319235Z"
    }
   },
   "cell_type": "code",
   "source": "arr[0:2, 1:4:2]",
   "id": "7a67c49167ffb003",
   "outputs": [
    {
     "data": {
      "text/plain": [
       "array([[2, 4],\n",
       "       [7, 9]])"
      ]
     },
     "execution_count": 14,
     "metadata": {},
     "output_type": "execute_result"
    }
   ],
   "execution_count": 14
  },
  {
   "metadata": {},
   "cell_type": "markdown",
   "source": [
    "NumPy has different data types.\n",
    "i - integer\n",
    "b - boolean\n",
    "u - unsigned integer\n",
    "f - float\n",
    "c - complex float\n",
    "m - timedelta\n",
    "M - datetime\n",
    "O - object\n",
    "S - string\n",
    "U - unicode string\n",
    "V - fixed chunk of memory for other type ( void )"
   ],
   "id": "a0f3d43fdf32e76d"
  },
  {
   "metadata": {
    "ExecuteTime": {
     "end_time": "2024-09-25T01:45:42.328510Z",
     "start_time": "2024-09-25T01:45:42.324556Z"
    }
   },
   "cell_type": "code",
   "source": [
    "arr = np.array([1, 2, 3])\n",
    "arr, arr.dtype"
   ],
   "id": "4171271193406c1a",
   "outputs": [
    {
     "data": {
      "text/plain": [
       "(array([1, 2, 3]), dtype('int64'))"
      ]
     },
     "execution_count": 15,
     "metadata": {},
     "output_type": "execute_result"
    }
   ],
   "execution_count": 15
  },
  {
   "metadata": {
    "ExecuteTime": {
     "end_time": "2024-09-25T01:45:42.335063Z",
     "start_time": "2024-09-25T01:45:42.329512Z"
    }
   },
   "cell_type": "code",
   "source": [
    "arr = np.array([1, 2, 3], dtype='float')\n",
    "arr, arr.dtype"
   ],
   "id": "4d9ca509456c580d",
   "outputs": [
    {
     "data": {
      "text/plain": [
       "(array([1., 2., 3.]), dtype('float64'))"
      ]
     },
     "execution_count": 16,
     "metadata": {},
     "output_type": "execute_result"
    }
   ],
   "execution_count": 16
  },
  {
   "metadata": {
    "ExecuteTime": {
     "end_time": "2024-09-25T01:45:42.340163Z",
     "start_time": "2024-09-25T01:45:42.336064Z"
    }
   },
   "cell_type": "code",
   "source": [
    "arr2 = arr.astype('int')\n",
    "arr2, arr.dtype"
   ],
   "id": "5eb07a412cc12abf",
   "outputs": [
    {
     "data": {
      "text/plain": [
       "(array([1, 2, 3]), dtype('float64'))"
      ]
     },
     "execution_count": 17,
     "metadata": {},
     "output_type": "execute_result"
    }
   ],
   "execution_count": 17
  },
  {
   "metadata": {},
   "cell_type": "markdown",
   "source": "Copies do not affect original data. Views do affect original data and vice versa.",
   "id": "c877635e2a37eeab"
  },
  {
   "metadata": {},
   "cell_type": "markdown",
   "source": "",
   "id": "d3d45f1494fc9e86"
  },
  {
   "metadata": {
    "ExecuteTime": {
     "end_time": "2024-09-25T01:45:42.347202Z",
     "start_time": "2024-09-25T01:45:42.341163Z"
    }
   },
   "cell_type": "code",
   "source": [
    "arr = np.array([1, 2, 3])\n",
    "arr2 = arr.copy()\n",
    "arr2[0] = 7\n",
    "arr, arr2"
   ],
   "id": "c6dd5deb82c01edf",
   "outputs": [
    {
     "data": {
      "text/plain": [
       "(array([1, 2, 3]), array([7, 2, 3]))"
      ]
     },
     "execution_count": 18,
     "metadata": {},
     "output_type": "execute_result"
    }
   ],
   "execution_count": 18
  },
  {
   "metadata": {
    "ExecuteTime": {
     "end_time": "2024-09-25T01:45:42.354014Z",
     "start_time": "2024-09-25T01:45:42.348205Z"
    }
   },
   "cell_type": "code",
   "source": [
    "arr3 = arr2.view()\n",
    "arr3[1] = 0\n",
    "arr2, arr3"
   ],
   "id": "f5ff4d63d234d430",
   "outputs": [
    {
     "data": {
      "text/plain": [
       "(array([7, 0, 3]), array([7, 0, 3]))"
      ]
     },
     "execution_count": 19,
     "metadata": {},
     "output_type": "execute_result"
    }
   ],
   "execution_count": 19
  },
  {
   "metadata": {
    "ExecuteTime": {
     "end_time": "2024-09-25T01:45:42.412765Z",
     "start_time": "2024-09-25T01:45:42.406653Z"
    }
   },
   "cell_type": "code",
   "source": [
    "# if the base attribute of an array is None, then the array is a copy\n",
    "arr.base, arr2.base, arr3.base"
   ],
   "id": "b126eb51afd6f3c6",
   "outputs": [
    {
     "data": {
      "text/plain": [
       "(None, None, array([7, 0, 3]))"
      ]
     },
     "execution_count": 20,
     "metadata": {},
     "output_type": "execute_result"
    }
   ],
   "execution_count": 20
  },
  {
   "metadata": {
    "ExecuteTime": {
     "end_time": "2024-09-25T01:45:42.582698Z",
     "start_time": "2024-09-25T01:45:42.577634Z"
    }
   },
   "cell_type": "code",
   "source": [
    "arr = np.array([1,2,3])\n",
    "arr2 = np.array([[1,2,3], [4, 5, 6]])\n",
    "arr.shape, arr2.shape"
   ],
   "id": "75a725f7a293bd4",
   "outputs": [
    {
     "data": {
      "text/plain": [
       "((3,), (2, 3))"
      ]
     },
     "execution_count": 21,
     "metadata": {},
     "output_type": "execute_result"
    }
   ],
   "execution_count": 21
  },
  {
   "metadata": {
    "ExecuteTime": {
     "end_time": "2024-09-25T01:45:42.689325Z",
     "start_time": "2024-09-25T01:45:42.684733Z"
    }
   },
   "cell_type": "code",
   "source": [
    "arr = np.array([1, 2, 3, 4], ndmin=3)\n",
    "arr.ndim, arr.shape"
   ],
   "id": "558169b967a1bab5",
   "outputs": [
    {
     "data": {
      "text/plain": [
       "(3, (1, 1, 4))"
      ]
     },
     "execution_count": 22,
     "metadata": {},
     "output_type": "execute_result"
    }
   ],
   "execution_count": 22
  },
  {
   "metadata": {
    "ExecuteTime": {
     "end_time": "2024-09-25T01:45:42.780805Z",
     "start_time": "2024-09-25T01:45:42.776551Z"
    }
   },
   "cell_type": "code",
   "source": [
    "arr = np.array([1, 2, 3, 4, 5, 6, 7, 8, 9, 10, 11, 12])\n",
    "arr2 = arr.reshape(4, 3)\n",
    "print((arr, arr.shape, arr2, arr2.shape))"
   ],
   "id": "8db1124130853a5",
   "outputs": [
    {
     "name": "stdout",
     "output_type": "stream",
     "text": [
      "(array([ 1,  2,  3,  4,  5,  6,  7,  8,  9, 10, 11, 12]), (12,), array([[ 1,  2,  3],\n",
      "       [ 4,  5,  6],\n",
      "       [ 7,  8,  9],\n",
      "       [10, 11, 12]]), (4, 3))\n"
     ]
    }
   ],
   "execution_count": 23
  },
  {
   "metadata": {
    "ExecuteTime": {
     "end_time": "2024-09-25T01:45:42.826961Z",
     "start_time": "2024-09-25T01:45:42.822734Z"
    }
   },
   "cell_type": "code",
   "source": [
    "arr = np.array([1, 2, 3, 4])\n",
    "arr2 = arr.reshape(2, 2)\n",
    "# arr2 is a view\n",
    "arr2.base"
   ],
   "id": "ec57f5698ee2873f",
   "outputs": [
    {
     "data": {
      "text/plain": [
       "array([1, 2, 3, 4])"
      ]
     },
     "execution_count": 24,
     "metadata": {},
     "output_type": "execute_result"
    }
   ],
   "execution_count": 24
  },
  {
   "metadata": {
    "ExecuteTime": {
     "end_time": "2024-09-25T01:45:42.864977Z",
     "start_time": "2024-09-25T01:45:42.860395Z"
    }
   },
   "cell_type": "code",
   "source": [
    "arr = np.array([1, 2, 3, 4, 5, 6, 7, 8])\n",
    "# NumPy will figure out what the missing dimension needs to be\n",
    "arr2 = arr.reshape(2, 2, -1)\n",
    "arr2"
   ],
   "id": "810b8196063a1a49",
   "outputs": [
    {
     "data": {
      "text/plain": [
       "array([[[1, 2],\n",
       "        [3, 4]],\n",
       "\n",
       "       [[5, 6],\n",
       "        [7, 8]]])"
      ]
     },
     "execution_count": 25,
     "metadata": {},
     "output_type": "execute_result"
    }
   ],
   "execution_count": 25
  },
  {
   "metadata": {
    "ExecuteTime": {
     "end_time": "2024-09-25T01:45:42.919911Z",
     "start_time": "2024-09-25T01:45:42.915146Z"
    }
   },
   "cell_type": "code",
   "source": "arr2.reshape(-1)",
   "id": "b300d2e0a5ef019",
   "outputs": [
    {
     "data": {
      "text/plain": [
       "array([1, 2, 3, 4, 5, 6, 7, 8])"
      ]
     },
     "execution_count": 26,
     "metadata": {},
     "output_type": "execute_result"
    }
   ],
   "execution_count": 26
  },
  {
   "metadata": {
    "ExecuteTime": {
     "end_time": "2024-09-25T01:45:42.979878Z",
     "start_time": "2024-09-25T01:45:42.975722Z"
    }
   },
   "cell_type": "code",
   "source": [
    "arr = np.array([[[1, 2, 3], [4, 5, 6]], [[7, 8, 9], [10, 11, 12]]])\n",
    "for i in np.nditer(arr):\n",
    "    print(i)"
   ],
   "id": "ced188f1b4374c2f",
   "outputs": [
    {
     "name": "stdout",
     "output_type": "stream",
     "text": [
      "1\n",
      "2\n",
      "3\n",
      "4\n",
      "5\n",
      "6\n",
      "7\n",
      "8\n",
      "9\n",
      "10\n",
      "11\n",
      "12\n"
     ]
    }
   ],
   "execution_count": 27
  },
  {
   "metadata": {
    "ExecuteTime": {
     "end_time": "2024-09-25T01:45:43.073942Z",
     "start_time": "2024-09-25T01:45:43.069127Z"
    }
   },
   "cell_type": "code",
   "source": [
    "# we have to buffer so numpy has time to change from int to float\n",
    "for i in np.nditer(arr, flags=['buffered'], op_dtypes='float'):\n",
    "    print(i)"
   ],
   "id": "b2460ef294cf97cc",
   "outputs": [
    {
     "name": "stdout",
     "output_type": "stream",
     "text": [
      "1.0\n",
      "2.0\n",
      "3.0\n",
      "4.0\n",
      "5.0\n",
      "6.0\n",
      "7.0\n",
      "8.0\n",
      "9.0\n",
      "10.0\n",
      "11.0\n",
      "12.0\n"
     ]
    }
   ],
   "execution_count": 28
  },
  {
   "metadata": {
    "ExecuteTime": {
     "end_time": "2024-09-25T01:45:43.136752Z",
     "start_time": "2024-09-25T01:45:43.132870Z"
    }
   },
   "cell_type": "code",
   "source": [
    "for i in arr[:, :, 1]:\n",
    "    print(i)"
   ],
   "id": "d73095188cf25054",
   "outputs": [
    {
     "name": "stdout",
     "output_type": "stream",
     "text": [
      "[2 5]\n",
      "[ 8 11]\n"
     ]
    }
   ],
   "execution_count": 29
  },
  {
   "metadata": {
    "ExecuteTime": {
     "end_time": "2024-09-25T01:54:01.777917Z",
     "start_time": "2024-09-25T01:54:01.774333Z"
    }
   },
   "cell_type": "code",
   "source": [
    "arr = np.array([[1, 2, 3], [4, 5, 6]])\n",
    "for i, x in np.ndenumerate(arr):\n",
    "    print(i, x)"
   ],
   "id": "644cff02c58e0167",
   "outputs": [
    {
     "name": "stdout",
     "output_type": "stream",
     "text": [
      "(0, 0) 1\n",
      "(0, 1) 2\n",
      "(0, 2) 3\n",
      "(1, 0) 4\n",
      "(1, 1) 5\n",
      "(1, 2) 6\n"
     ]
    }
   ],
   "execution_count": 93
  },
  {
   "metadata": {
    "ExecuteTime": {
     "end_time": "2024-09-25T01:54:04.945414Z",
     "start_time": "2024-09-25T01:54:04.939081Z"
    }
   },
   "cell_type": "code",
   "source": [
    "arr1 = np.array([1, 2, 3])\n",
    "arr2 = np.array([4, 5, 6])\n",
    "np.concatenate((arr1, arr2))  # arrays are stacked next to each other"
   ],
   "id": "794f7a6925d6e5f7",
   "outputs": [
    {
     "data": {
      "text/plain": [
       "array([1, 2, 3, 4, 5, 6])"
      ]
     },
     "execution_count": 98,
     "metadata": {},
     "output_type": "execute_result"
    }
   ],
   "execution_count": 98
  },
  {
   "metadata": {
    "ExecuteTime": {
     "end_time": "2024-09-25T01:56:00.128354Z",
     "start_time": "2024-09-25T01:56:00.123464Z"
    }
   },
   "cell_type": "code",
   "source": [
    "# stack puts the second array on a new axis\n",
    "# there are lots of ways to stack\n",
    "np.stack((arr1, arr2))"
   ],
   "id": "d6bc30cbe0e65140",
   "outputs": [
    {
     "data": {
      "text/plain": [
       "array([[1, 2, 3],\n",
       "       [4, 5, 6]])"
      ]
     },
     "execution_count": 106,
     "metadata": {},
     "output_type": "execute_result"
    }
   ],
   "execution_count": 106
  },
  {
   "metadata": {
    "ExecuteTime": {
     "end_time": "2024-09-25T02:01:25.787563Z",
     "start_time": "2024-09-25T02:01:25.782574Z"
    }
   },
   "cell_type": "code",
   "source": [
    "# by default axis=0\n",
    "# axis 1 means the inputs are stacked column-wise --> same as dstack\n",
    "# axis 0 means the inputs are stacked row-wise --> same as vstack\n",
    "np.stack((arr1, arr2), 1)"
   ],
   "id": "3fb2e31175f3ca20",
   "outputs": [
    {
     "data": {
      "text/plain": [
       "array([[1, 4],\n",
       "       [2, 5],\n",
       "       [3, 6]])"
      ]
     },
     "execution_count": 118,
     "metadata": {},
     "output_type": "execute_result"
    }
   ],
   "execution_count": 118
  },
  {
   "metadata": {
    "ExecuteTime": {
     "end_time": "2024-09-25T01:58:42.563489Z",
     "start_time": "2024-09-25T01:58:42.557787Z"
    }
   },
   "cell_type": "code",
   "source": "np.hstack((arr1, arr2))  # arrays are stacked next to each other horizontally",
   "id": "67a754537c417849",
   "outputs": [
    {
     "data": {
      "text/plain": [
       "array([1, 2, 3, 4, 5, 6])"
      ]
     },
     "execution_count": 113,
     "metadata": {},
     "output_type": "execute_result"
    }
   ],
   "execution_count": 113
  },
  {
   "metadata": {
    "ExecuteTime": {
     "end_time": "2024-09-25T01:59:24.263971Z",
     "start_time": "2024-09-25T01:59:24.259687Z"
    }
   },
   "cell_type": "code",
   "source": "np.vstack((arr1, arr2))  # arrays are stacked on top of each other vertically",
   "id": "4ed64e4d0803a617",
   "outputs": [
    {
     "data": {
      "text/plain": [
       "array([[1, 2, 3],\n",
       "       [4, 5, 6]])"
      ]
     },
     "execution_count": 114,
     "metadata": {},
     "output_type": "execute_result"
    }
   ],
   "execution_count": 114
  },
  {
   "metadata": {
    "ExecuteTime": {
     "end_time": "2024-09-25T02:01:28.436579Z",
     "start_time": "2024-09-25T02:01:28.430986Z"
    }
   },
   "cell_type": "code",
   "source": "np.dstack((arr1, arr2))  # arrays are stacked next to each other",
   "id": "4b25c6142c9dd754",
   "outputs": [
    {
     "data": {
      "text/plain": [
       "array([[[1, 4],\n",
       "        [2, 5],\n",
       "        [3, 6]]])"
      ]
     },
     "execution_count": 119,
     "metadata": {},
     "output_type": "execute_result"
    }
   ],
   "execution_count": 119
  }
 ],
 "metadata": {
  "kernelspec": {
   "display_name": "Python 3",
   "language": "python",
   "name": "python3"
  },
  "language_info": {
   "codemirror_mode": {
    "name": "ipython",
    "version": 2
   },
   "file_extension": ".py",
   "mimetype": "text/x-python",
   "name": "python",
   "nbconvert_exporter": "python",
   "pygments_lexer": "ipython2",
   "version": "2.7.6"
  }
 },
 "nbformat": 4,
 "nbformat_minor": 5
}
