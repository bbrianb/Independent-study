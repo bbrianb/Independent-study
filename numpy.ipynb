{
 "cells": [
  {
   "metadata": {},
   "cell_type": "markdown",
   "source": [
    "According to Python, \"NumPy is the fundamental package for scientific computing with Python.\"\n",
    "It's used for working with arrays. NumPy arrays can be processed faster than Python lists."
   ],
   "id": "1d26a23a690bd234"
  },
  {
   "metadata": {
    "ExecuteTime": {
     "end_time": "2024-09-12T15:05:29.823592Z",
     "start_time": "2024-09-12T15:05:29.817045Z"
    }
   },
   "cell_type": "code",
   "source": [
    "# the conventional way to install numpy\n",
    "numpy: import numpy as np\n",
    "np.__version__"
   ],
   "id": "34ba24bbbcfbb66a",
   "outputs": [
    {
     "data": {
      "text/plain": [
       "'2.1.1'"
      ]
     },
     "execution_count": 20,
     "metadata": {},
     "output_type": "execute_result"
    }
   ],
   "execution_count": 20
  },
  {
   "metadata": {
    "ExecuteTime": {
     "end_time": "2024-09-12T15:05:31.633996Z",
     "start_time": "2024-09-12T15:05:31.626304Z"
    }
   },
   "cell_type": "code",
   "source": [
    "l = [1, 2, 3, 4, 5]\n",
    "arr = np.array(l)\n",
    "arr"
   ],
   "id": "d3c085ab4543127e",
   "outputs": [
    {
     "data": {
      "text/plain": [
       "array([1, 2, 3, 4, 5])"
      ]
     },
     "execution_count": 21,
     "metadata": {},
     "output_type": "execute_result"
    }
   ],
   "execution_count": 21
  },
  {
   "metadata": {},
   "cell_type": "markdown",
   "source": "Arrays have dimensions. 0-D arrays are just numbers. They're called scalars. 1-D arrays have 0-D arrays as all their elements. 2-D arrays have 1-D arrays as its elements. These can be used to represent matrices.",
   "id": "1f62faff8158e751"
  },
  {
   "metadata": {
    "ExecuteTime": {
     "end_time": "2024-09-12T15:10:15.324873Z",
     "start_time": "2024-09-12T15:10:15.317284Z"
    }
   },
   "cell_type": "code",
   "source": [
    "twoD = np.array([[1, 2, 3], [4, 5, 6]])\n",
    "twoD"
   ],
   "id": "c8cdb9daf4b784e8",
   "outputs": [
    {
     "data": {
      "text/plain": [
       "array([[1, 2, 3],\n",
       "       [4, 5, 6]])"
      ]
     },
     "execution_count": 23,
     "metadata": {},
     "output_type": "execute_result"
    }
   ],
   "execution_count": 23
  },
  {
   "metadata": {
    "ExecuteTime": {
     "end_time": "2024-09-12T15:12:59.838786Z",
     "start_time": "2024-09-12T15:12:59.815669Z"
    }
   },
   "cell_type": "code",
   "source": "arr.ndim, twoD.ndim",
   "id": "19926296a4155f61",
   "outputs": [
    {
     "ename": "AttributeError",
     "evalue": "'numpy.ndarray' object has no attribute 'ndmim'",
     "output_type": "error",
     "traceback": [
      "\u001B[1;31m---------------------------------------------------------------------------\u001B[0m",
      "\u001B[1;31mAttributeError\u001B[0m                            Traceback (most recent call last)",
      "Cell \u001B[1;32mIn[26], line 1\u001B[0m\n\u001B[1;32m----> 1\u001B[0m arr\u001B[38;5;241m.\u001B[39mndmim, twoD\u001B[38;5;241m.\u001B[39mndmim\n",
      "\u001B[1;31mAttributeError\u001B[0m: 'numpy.ndarray' object has no attribute 'ndmim'"
     ]
    }
   ],
   "execution_count": 26
  }
 ],
 "metadata": {
  "kernelspec": {
   "display_name": "Python 3",
   "language": "python",
   "name": "python3"
  },
  "language_info": {
   "codemirror_mode": {
    "name": "ipython",
    "version": 2
   },
   "file_extension": ".py",
   "mimetype": "text/x-python",
   "name": "python",
   "nbconvert_exporter": "python",
   "pygments_lexer": "ipython2",
   "version": "2.7.6"
  }
 },
 "nbformat": 4,
 "nbformat_minor": 5
}
