{
 "cells": [
  {
   "metadata": {},
   "cell_type": "markdown",
   "source": [
    "According to Python, \"NumPy is the fundamental package for scientific computing with Python.\"\n",
    "It's used for working with arrays. NumPy arrays can be processed faster than Python lists."
   ],
   "id": "1d26a23a690bd234"
  },
  {
   "metadata": {
    "ExecuteTime": {
     "end_time": "2024-09-12T18:06:22.920079Z",
     "start_time": "2024-09-12T18:06:22.913396Z"
    }
   },
   "cell_type": "code",
   "source": [
    "# the conventional way to install numpy\n",
    "import numpy as np\n",
    "np.__version__"
   ],
   "id": "34ba24bbbcfbb66a",
   "outputs": [
    {
     "data": {
      "text/plain": [
       "'2.1.1'"
      ]
     },
     "execution_count": 77,
     "metadata": {},
     "output_type": "execute_result"
    }
   ],
   "execution_count": 77
  },
  {
   "metadata": {
    "ExecuteTime": {
     "end_time": "2024-09-12T18:06:22.969551Z",
     "start_time": "2024-09-12T18:06:22.963615Z"
    }
   },
   "cell_type": "code",
   "source": [
    "arr = np.array([1, 2, 3, 4])\n",
    "arr"
   ],
   "id": "d3c085ab4543127e",
   "outputs": [
    {
     "data": {
      "text/plain": [
       "array([1, 2, 3, 4])"
      ]
     },
     "execution_count": 78,
     "metadata": {},
     "output_type": "execute_result"
    }
   ],
   "execution_count": 78
  },
  {
   "metadata": {},
   "cell_type": "markdown",
   "source": "Arrays have dimensions. 0-D arrays are just numbers. They're called scalars. 1-D arrays have 0-D arrays as all their elements. 2-D arrays have 1-D arrays as its elements. These can be used to represent matrices.",
   "id": "1f62faff8158e751"
  },
  {
   "metadata": {
    "ExecuteTime": {
     "end_time": "2024-09-12T18:06:22.981382Z",
     "start_time": "2024-09-12T18:06:22.975135Z"
    }
   },
   "cell_type": "code",
   "source": [
    "twoD = np.array([[1, 2, 3], [4, 5, 6]])\n",
    "# if there's two sets of brackets, then there are two dimensions\n",
    "twoD"
   ],
   "id": "c8cdb9daf4b784e8",
   "outputs": [
    {
     "data": {
      "text/plain": [
       "array([[1, 2, 3],\n",
       "       [4, 5, 6]])"
      ]
     },
     "execution_count": 79,
     "metadata": {},
     "output_type": "execute_result"
    }
   ],
   "execution_count": 79
  },
  {
   "metadata": {
    "ExecuteTime": {
     "end_time": "2024-09-12T18:06:22.994425Z",
     "start_time": "2024-09-12T18:06:22.987365Z"
    }
   },
   "cell_type": "code",
   "source": "arr.ndim, twoD.ndim",
   "id": "19926296a4155f61",
   "outputs": [
    {
     "data": {
      "text/plain": [
       "(1, 2)"
      ]
     },
     "execution_count": 80,
     "metadata": {},
     "output_type": "execute_result"
    }
   ],
   "execution_count": 80
  },
  {
   "metadata": {
    "ExecuteTime": {
     "end_time": "2024-09-12T18:06:23.004671Z",
     "start_time": "2024-09-12T18:06:22.999414Z"
    }
   },
   "cell_type": "code",
   "source": "arr[0], arr[1]",
   "id": "f428125e32843477",
   "outputs": [
    {
     "data": {
      "text/plain": [
       "(np.int64(1), np.int64(2))"
      ]
     },
     "execution_count": 81,
     "metadata": {},
     "output_type": "execute_result"
    }
   ],
   "execution_count": 81
  },
  {
   "metadata": {
    "ExecuteTime": {
     "end_time": "2024-09-12T18:06:23.032340Z",
     "start_time": "2024-09-12T18:06:23.027599Z"
    }
   },
   "cell_type": "code",
   "source": "twoD[0], twoD[0, 0]",
   "id": "e5e23db80660a8a2",
   "outputs": [
    {
     "data": {
      "text/plain": [
       "(array([1, 2, 3]), np.int64(1))"
      ]
     },
     "execution_count": 82,
     "metadata": {},
     "output_type": "execute_result"
    }
   ],
   "execution_count": 82
  },
  {
   "metadata": {
    "ExecuteTime": {
     "end_time": "2024-09-12T18:06:23.059571Z",
     "start_time": "2024-09-12T18:06:23.052566Z"
    }
   },
   "cell_type": "code",
   "source": [
    "arr2 = np.array([[[1, 2, 3], [4, 5, 6]], [[7, 8, 9], [10, 11, 12]]])\n",
    "arr2.ndim"
   ],
   "id": "9100666ca180e8ce",
   "outputs": [
    {
     "data": {
      "text/plain": [
       "3"
      ]
     },
     "execution_count": 83,
     "metadata": {},
     "output_type": "execute_result"
    }
   ],
   "execution_count": 83
  },
  {
   "metadata": {
    "ExecuteTime": {
     "end_time": "2024-09-12T18:06:23.122477Z",
     "start_time": "2024-09-12T18:06:23.115602Z"
    }
   },
   "cell_type": "code",
   "source": "arr2[1], arr2[1, 1], arr2[1, 1, 1]",
   "id": "5a7961e4a1cf6b77",
   "outputs": [
    {
     "data": {
      "text/plain": [
       "(array([[ 7,  8,  9],\n",
       "        [10, 11, 12]]),\n",
       " array([10, 11, 12]),\n",
       " np.int64(11))"
      ]
     },
     "execution_count": 84,
     "metadata": {},
     "output_type": "execute_result"
    }
   ],
   "execution_count": 84
  },
  {
   "metadata": {
    "ExecuteTime": {
     "end_time": "2024-09-12T18:06:23.133080Z",
     "start_time": "2024-09-12T18:06:23.129459Z"
    }
   },
   "cell_type": "code",
   "source": "",
   "id": "fed74a50253428d5",
   "outputs": [],
   "execution_count": 84
  }
 ],
 "metadata": {
  "kernelspec": {
   "display_name": "Python 3",
   "language": "python",
   "name": "python3"
  },
  "language_info": {
   "codemirror_mode": {
    "name": "ipython",
    "version": 2
   },
   "file_extension": ".py",
   "mimetype": "text/x-python",
   "name": "python",
   "nbconvert_exporter": "python",
   "pygments_lexer": "ipython2",
   "version": "2.7.6"
  }
 },
 "nbformat": 4,
 "nbformat_minor": 5
}
