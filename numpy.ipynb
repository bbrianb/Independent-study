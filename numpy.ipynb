{
 "cells": [
  {
   "metadata": {},
   "cell_type": "markdown",
   "source": [
    "According to Python, \"NumPy is the fundamental package for scientific computing with Python.\"\n",
    "It's used for working with arrays. NumPy arrays can be processed faster than Python lists."
   ],
   "id": "1d26a23a690bd234"
  },
  {
   "metadata": {
    "ExecuteTime": {
     "end_time": "2024-09-12T16:14:32.874025Z",
     "start_time": "2024-09-12T16:14:32.869173Z"
    }
   },
   "cell_type": "code",
   "source": [
    "# the conventional way to install numpy\n",
    "numpy: import numpy as np\n",
    "np.__version__"
   ],
   "id": "34ba24bbbcfbb66a",
   "outputs": [
    {
     "ename": "SyntaxError",
     "evalue": "invalid syntax (1724952845.py, line 2)",
     "output_type": "error",
     "traceback": [
      "\u001B[1;36m  Cell \u001B[1;32mIn[37], line 2\u001B[1;36m\u001B[0m\n\u001B[1;33m    numpy: import numpy as np\u001B[0m\n\u001B[1;37m           ^\u001B[0m\n\u001B[1;31mSyntaxError\u001B[0m\u001B[1;31m:\u001B[0m invalid syntax\n"
     ]
    }
   ],
   "execution_count": 37
  },
  {
   "metadata": {
    "ExecuteTime": {
     "end_time": "2024-09-12T16:15:01.733590Z",
     "start_time": "2024-09-12T16:15:01.727135Z"
    }
   },
   "cell_type": "code",
   "source": [
    "arr = np.array([1, 2, 3, 4])\n",
    "arr"
   ],
   "id": "d3c085ab4543127e",
   "outputs": [
    {
     "data": {
      "text/plain": [
       "array([1, 2, 3, 4])"
      ]
     },
     "execution_count": 42,
     "metadata": {},
     "output_type": "execute_result"
    }
   ],
   "execution_count": 42
  },
  {
   "metadata": {},
   "cell_type": "markdown",
   "source": "Arrays have dimensions. 0-D arrays are just numbers. They're called scalars. 1-D arrays have 0-D arrays as all their elements. 2-D arrays have 1-D arrays as its elements. These can be used to represent matrices.",
   "id": "1f62faff8158e751"
  },
  {
   "metadata": {
    "ExecuteTime": {
     "end_time": "2024-09-12T16:15:04.276255Z",
     "start_time": "2024-09-12T16:15:04.268516Z"
    }
   },
   "cell_type": "code",
   "source": [
    "twoD = np.array([[1, 2, 3], [4, 5, 6]])\n",
    "# if there's two sets of brackets, then there are two dimensions\n",
    "twoD"
   ],
   "id": "c8cdb9daf4b784e8",
   "outputs": [
    {
     "data": {
      "text/plain": [
       "array([[1, 2, 3],\n",
       "       [4, 5, 6]])"
      ]
     },
     "execution_count": 43,
     "metadata": {},
     "output_type": "execute_result"
    }
   ],
   "execution_count": 43
  },
  {
   "metadata": {
    "ExecuteTime": {
     "end_time": "2024-09-12T16:15:05.314510Z",
     "start_time": "2024-09-12T16:15:05.307861Z"
    }
   },
   "cell_type": "code",
   "source": "arr.ndim, twoD.ndim",
   "id": "19926296a4155f61",
   "outputs": [
    {
     "data": {
      "text/plain": [
       "(1, 2)"
      ]
     },
     "execution_count": 44,
     "metadata": {},
     "output_type": "execute_result"
    }
   ],
   "execution_count": 44
  },
  {
   "metadata": {
    "ExecuteTime": {
     "end_time": "2024-09-12T18:02:53.224893Z",
     "start_time": "2024-09-12T18:02:53.217277Z"
    }
   },
   "cell_type": "code",
   "source": "arr[0], arr[1]",
   "id": "f428125e32843477",
   "outputs": [
    {
     "data": {
      "text/plain": [
       "(np.int64(1), np.int64(2))"
      ]
     },
     "execution_count": 63,
     "metadata": {},
     "output_type": "execute_result"
    }
   ],
   "execution_count": 63
  },
  {
   "metadata": {
    "ExecuteTime": {
     "end_time": "2024-09-12T18:04:35.937059Z",
     "start_time": "2024-09-12T18:04:35.930452Z"
    }
   },
   "cell_type": "code",
   "source": "twoD[0], twoD[0, 0]",
   "id": "e5e23db80660a8a2",
   "outputs": [
    {
     "data": {
      "text/plain": [
       "(array([1, 2, 3]), np.int64(1))"
      ]
     },
     "execution_count": 68,
     "metadata": {},
     "output_type": "execute_result"
    }
   ],
   "execution_count": 68
  },
  {
   "metadata": {
    "ExecuteTime": {
     "end_time": "2024-09-12T18:04:21.898427Z",
     "start_time": "2024-09-12T18:04:21.890353Z"
    }
   },
   "cell_type": "code",
   "source": [
    "arr2 = np.array([[[1, 2, 3], [4, 5, 6]], [[7, 8, 9], [10, 11, 12]]])\n",
    "arr2.ndim"
   ],
   "id": "9100666ca180e8ce",
   "outputs": [
    {
     "data": {
      "text/plain": [
       "3"
      ]
     },
     "execution_count": 67,
     "metadata": {},
     "output_type": "execute_result"
    }
   ],
   "execution_count": 67
  },
  {
   "metadata": {
    "ExecuteTime": {
     "end_time": "2024-09-12T18:05:20.026259Z",
     "start_time": "2024-09-12T18:05:20.018415Z"
    }
   },
   "cell_type": "code",
   "source": "arr2[1], arr2[1, 1], arr2[1, 1, 1]",
   "id": "5a7961e4a1cf6b77",
   "outputs": [
    {
     "data": {
      "text/plain": [
       "(array([[ 7,  8,  9],\n",
       "        [10, 11, 12]]),\n",
       " array([10, 11, 12]),\n",
       " np.int64(11))"
      ]
     },
     "execution_count": 75,
     "metadata": {},
     "output_type": "execute_result"
    }
   ],
   "execution_count": 75
  },
  {
   "metadata": {},
   "cell_type": "code",
   "outputs": [],
   "execution_count": null,
   "source": "",
   "id": "fed74a50253428d5"
  }
 ],
 "metadata": {
  "kernelspec": {
   "display_name": "Python 3",
   "language": "python",
   "name": "python3"
  },
  "language_info": {
   "codemirror_mode": {
    "name": "ipython",
    "version": 2
   },
   "file_extension": ".py",
   "mimetype": "text/x-python",
   "name": "python",
   "nbconvert_exporter": "python",
   "pygments_lexer": "ipython2",
   "version": "2.7.6"
  }
 },
 "nbformat": 4,
 "nbformat_minor": 5
}
