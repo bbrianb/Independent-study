{
 "cells": [
  {
   "metadata": {
    "ExecuteTime": {
     "end_time": "2025-01-16T03:25:37.574821Z",
     "start_time": "2025-01-16T03:25:37.568729Z"
    }
   },
   "cell_type": "code",
   "source": [
    "from torch.utils.data import Dataset, DataLoader\n",
    "import numpy as np\n",
    "import pandas as pd\n",
    "from sklearn.preprocessing import MinMaxScaler\n",
    "np.__version__, pd.__version__"
   ],
   "id": "c4355ee59f709f65",
   "outputs": [
    {
     "data": {
      "text/plain": [
       "('1.26.4', '2.2.3')"
      ]
     },
     "execution_count": 101,
     "metadata": {},
     "output_type": "execute_result"
    }
   ],
   "execution_count": 101
  },
  {
   "metadata": {
    "ExecuteTime": {
     "end_time": "2025-01-16T03:25:37.580890Z",
     "start_time": "2025-01-16T03:25:37.575822Z"
    }
   },
   "cell_type": "code",
   "source": [
    "import torch\n",
    "from torch import nn\n",
    "device = 'cuda' if torch.cuda.is_available() else 'cpu'\n",
    "device"
   ],
   "id": "b5c9fdc734499ea1",
   "outputs": [
    {
     "data": {
      "text/plain": [
       "'cuda'"
      ]
     },
     "execution_count": 102,
     "metadata": {},
     "output_type": "execute_result"
    }
   ],
   "execution_count": 102
  },
  {
   "metadata": {
    "ExecuteTime": {
     "end_time": "2025-01-16T03:25:37.684012Z",
     "start_time": "2025-01-16T03:25:37.581891Z"
    }
   },
   "cell_type": "code",
   "source": [
    "dataFrame = pd.read_csv('data/loan_data.csv')\n",
    "\n",
    "# Convert non-numeric columns to numeric\n",
    "for col in dataFrame.select_dtypes(include=['object']).columns:\n",
    "    dataFrame[col] = dataFrame[col].astype('category').cat.codes  # Label encode strings\n",
    "dataFrame.groupby('loan_status').size()"
   ],
   "id": "86c9755683082161",
   "outputs": [
    {
     "data": {
      "text/plain": [
       "loan_status\n",
       "0    35000\n",
       "1    10000\n",
       "dtype: int64"
      ]
     },
     "execution_count": 103,
     "metadata": {},
     "output_type": "execute_result"
    }
   ],
   "execution_count": 103
  },
  {
   "metadata": {
    "ExecuteTime": {
     "end_time": "2025-01-16T03:25:37.728180Z",
     "start_time": "2025-01-16T03:25:37.685012Z"
    }
   },
   "cell_type": "code",
   "source": [
    "features = dataFrame.drop(columns=['loan_status'])\n",
    "targets = dataFrame['loan_status']\n",
    "scaler = MinMaxScaler()\n",
    "scaledFeatures = scaler.fit_transform(features)\n",
    "scaledDataFrame = pd.DataFrame(scaledFeatures, columns=features.columns)\n",
    "scaledDataFrame['loan_status'] = targets\n",
    "scaledDataFrame"
   ],
   "id": "7fa7ce64245b7198",
   "outputs": [
    {
     "data": {
      "text/plain": [
       "       person_age  person_gender  person_education  person_income  \\\n",
       "0        0.016129            0.0              1.00       0.008891   \n",
       "1        0.008065            0.0              0.75       0.000595   \n",
       "2        0.040323            0.0              0.75       0.000617   \n",
       "3        0.024194            0.0              0.25       0.009976   \n",
       "4        0.032258            1.0              1.00       0.008082   \n",
       "...           ...            ...               ...            ...   \n",
       "44995    0.056452            1.0              0.00       0.005557   \n",
       "44996    0.137097            0.0              0.00       0.008036   \n",
       "44997    0.104839            1.0              0.00       0.006804   \n",
       "44998    0.072581            1.0              0.25       0.003499   \n",
       "44999    0.032258            1.0              0.75       0.006063   \n",
       "\n",
       "       person_emp_exp  person_home_ownership  loan_amnt  loan_intent  \\\n",
       "0               0.000               1.000000   1.000000          0.8   \n",
       "1               0.000               0.666667   0.014493          0.2   \n",
       "2               0.024               0.000000   0.144928          0.6   \n",
       "3               0.000               1.000000   1.000000          0.6   \n",
       "4               0.008               1.000000   1.000000          0.6   \n",
       "...               ...                    ...        ...          ...   \n",
       "44995           0.048               1.000000   0.420290          0.6   \n",
       "44996           0.136               1.000000   0.246377          0.4   \n",
       "44997           0.056               1.000000   0.065826          0.0   \n",
       "44998           0.032               1.000000   0.333333          0.2   \n",
       "44999           0.008               1.000000   0.178696          0.0   \n",
       "\n",
       "       loan_int_rate  loan_percent_income  cb_person_cred_hist_length  \\\n",
       "0           0.727023             0.742424                    0.035714   \n",
       "1           0.392318             0.121212                    0.000000   \n",
       "2           0.510974             0.666667                    0.035714   \n",
       "3           0.672840             0.666667                    0.000000   \n",
       "4           0.606996             0.803030                    0.071429   \n",
       "...              ...                  ...                         ...   \n",
       "44995       0.702332             0.469697                    0.035714   \n",
       "44996       0.593278             0.212121                    0.321429   \n",
       "44997       0.315501             0.075758                    0.285714   \n",
       "44998       0.535665             0.545455                    0.142857   \n",
       "44999       0.797668             0.196970                    0.035714   \n",
       "\n",
       "       credit_score  previous_loan_defaults_on_file  loan_status  \n",
       "0          0.371739                             0.0            1  \n",
       "1          0.247826                             1.0            0  \n",
       "2          0.532609                             0.0            1  \n",
       "3          0.619565                             0.0            1  \n",
       "4          0.426087                             0.0            1  \n",
       "...             ...                             ...          ...  \n",
       "44995      0.554348                             0.0            1  \n",
       "44996      0.502174                             0.0            1  \n",
       "44997      0.604348                             0.0            1  \n",
       "44998      0.465217                             0.0            1  \n",
       "44999      0.517391                             0.0            1  \n",
       "\n",
       "[45000 rows x 14 columns]"
      ],
      "text/html": [
       "<div>\n",
       "<style scoped>\n",
       "    .dataframe tbody tr th:only-of-type {\n",
       "        vertical-align: middle;\n",
       "    }\n",
       "\n",
       "    .dataframe tbody tr th {\n",
       "        vertical-align: top;\n",
       "    }\n",
       "\n",
       "    .dataframe thead th {\n",
       "        text-align: right;\n",
       "    }\n",
       "</style>\n",
       "<table border=\"1\" class=\"dataframe\">\n",
       "  <thead>\n",
       "    <tr style=\"text-align: right;\">\n",
       "      <th></th>\n",
       "      <th>person_age</th>\n",
       "      <th>person_gender</th>\n",
       "      <th>person_education</th>\n",
       "      <th>person_income</th>\n",
       "      <th>person_emp_exp</th>\n",
       "      <th>person_home_ownership</th>\n",
       "      <th>loan_amnt</th>\n",
       "      <th>loan_intent</th>\n",
       "      <th>loan_int_rate</th>\n",
       "      <th>loan_percent_income</th>\n",
       "      <th>cb_person_cred_hist_length</th>\n",
       "      <th>credit_score</th>\n",
       "      <th>previous_loan_defaults_on_file</th>\n",
       "      <th>loan_status</th>\n",
       "    </tr>\n",
       "  </thead>\n",
       "  <tbody>\n",
       "    <tr>\n",
       "      <th>0</th>\n",
       "      <td>0.016129</td>\n",
       "      <td>0.0</td>\n",
       "      <td>1.00</td>\n",
       "      <td>0.008891</td>\n",
       "      <td>0.000</td>\n",
       "      <td>1.000000</td>\n",
       "      <td>1.000000</td>\n",
       "      <td>0.8</td>\n",
       "      <td>0.727023</td>\n",
       "      <td>0.742424</td>\n",
       "      <td>0.035714</td>\n",
       "      <td>0.371739</td>\n",
       "      <td>0.0</td>\n",
       "      <td>1</td>\n",
       "    </tr>\n",
       "    <tr>\n",
       "      <th>1</th>\n",
       "      <td>0.008065</td>\n",
       "      <td>0.0</td>\n",
       "      <td>0.75</td>\n",
       "      <td>0.000595</td>\n",
       "      <td>0.000</td>\n",
       "      <td>0.666667</td>\n",
       "      <td>0.014493</td>\n",
       "      <td>0.2</td>\n",
       "      <td>0.392318</td>\n",
       "      <td>0.121212</td>\n",
       "      <td>0.000000</td>\n",
       "      <td>0.247826</td>\n",
       "      <td>1.0</td>\n",
       "      <td>0</td>\n",
       "    </tr>\n",
       "    <tr>\n",
       "      <th>2</th>\n",
       "      <td>0.040323</td>\n",
       "      <td>0.0</td>\n",
       "      <td>0.75</td>\n",
       "      <td>0.000617</td>\n",
       "      <td>0.024</td>\n",
       "      <td>0.000000</td>\n",
       "      <td>0.144928</td>\n",
       "      <td>0.6</td>\n",
       "      <td>0.510974</td>\n",
       "      <td>0.666667</td>\n",
       "      <td>0.035714</td>\n",
       "      <td>0.532609</td>\n",
       "      <td>0.0</td>\n",
       "      <td>1</td>\n",
       "    </tr>\n",
       "    <tr>\n",
       "      <th>3</th>\n",
       "      <td>0.024194</td>\n",
       "      <td>0.0</td>\n",
       "      <td>0.25</td>\n",
       "      <td>0.009976</td>\n",
       "      <td>0.000</td>\n",
       "      <td>1.000000</td>\n",
       "      <td>1.000000</td>\n",
       "      <td>0.6</td>\n",
       "      <td>0.672840</td>\n",
       "      <td>0.666667</td>\n",
       "      <td>0.000000</td>\n",
       "      <td>0.619565</td>\n",
       "      <td>0.0</td>\n",
       "      <td>1</td>\n",
       "    </tr>\n",
       "    <tr>\n",
       "      <th>4</th>\n",
       "      <td>0.032258</td>\n",
       "      <td>1.0</td>\n",
       "      <td>1.00</td>\n",
       "      <td>0.008082</td>\n",
       "      <td>0.008</td>\n",
       "      <td>1.000000</td>\n",
       "      <td>1.000000</td>\n",
       "      <td>0.6</td>\n",
       "      <td>0.606996</td>\n",
       "      <td>0.803030</td>\n",
       "      <td>0.071429</td>\n",
       "      <td>0.426087</td>\n",
       "      <td>0.0</td>\n",
       "      <td>1</td>\n",
       "    </tr>\n",
       "    <tr>\n",
       "      <th>...</th>\n",
       "      <td>...</td>\n",
       "      <td>...</td>\n",
       "      <td>...</td>\n",
       "      <td>...</td>\n",
       "      <td>...</td>\n",
       "      <td>...</td>\n",
       "      <td>...</td>\n",
       "      <td>...</td>\n",
       "      <td>...</td>\n",
       "      <td>...</td>\n",
       "      <td>...</td>\n",
       "      <td>...</td>\n",
       "      <td>...</td>\n",
       "      <td>...</td>\n",
       "    </tr>\n",
       "    <tr>\n",
       "      <th>44995</th>\n",
       "      <td>0.056452</td>\n",
       "      <td>1.0</td>\n",
       "      <td>0.00</td>\n",
       "      <td>0.005557</td>\n",
       "      <td>0.048</td>\n",
       "      <td>1.000000</td>\n",
       "      <td>0.420290</td>\n",
       "      <td>0.6</td>\n",
       "      <td>0.702332</td>\n",
       "      <td>0.469697</td>\n",
       "      <td>0.035714</td>\n",
       "      <td>0.554348</td>\n",
       "      <td>0.0</td>\n",
       "      <td>1</td>\n",
       "    </tr>\n",
       "    <tr>\n",
       "      <th>44996</th>\n",
       "      <td>0.137097</td>\n",
       "      <td>0.0</td>\n",
       "      <td>0.00</td>\n",
       "      <td>0.008036</td>\n",
       "      <td>0.136</td>\n",
       "      <td>1.000000</td>\n",
       "      <td>0.246377</td>\n",
       "      <td>0.4</td>\n",
       "      <td>0.593278</td>\n",
       "      <td>0.212121</td>\n",
       "      <td>0.321429</td>\n",
       "      <td>0.502174</td>\n",
       "      <td>0.0</td>\n",
       "      <td>1</td>\n",
       "    </tr>\n",
       "    <tr>\n",
       "      <th>44997</th>\n",
       "      <td>0.104839</td>\n",
       "      <td>1.0</td>\n",
       "      <td>0.00</td>\n",
       "      <td>0.006804</td>\n",
       "      <td>0.056</td>\n",
       "      <td>1.000000</td>\n",
       "      <td>0.065826</td>\n",
       "      <td>0.0</td>\n",
       "      <td>0.315501</td>\n",
       "      <td>0.075758</td>\n",
       "      <td>0.285714</td>\n",
       "      <td>0.604348</td>\n",
       "      <td>0.0</td>\n",
       "      <td>1</td>\n",
       "    </tr>\n",
       "    <tr>\n",
       "      <th>44998</th>\n",
       "      <td>0.072581</td>\n",
       "      <td>1.0</td>\n",
       "      <td>0.25</td>\n",
       "      <td>0.003499</td>\n",
       "      <td>0.032</td>\n",
       "      <td>1.000000</td>\n",
       "      <td>0.333333</td>\n",
       "      <td>0.2</td>\n",
       "      <td>0.535665</td>\n",
       "      <td>0.545455</td>\n",
       "      <td>0.142857</td>\n",
       "      <td>0.465217</td>\n",
       "      <td>0.0</td>\n",
       "      <td>1</td>\n",
       "    </tr>\n",
       "    <tr>\n",
       "      <th>44999</th>\n",
       "      <td>0.032258</td>\n",
       "      <td>1.0</td>\n",
       "      <td>0.75</td>\n",
       "      <td>0.006063</td>\n",
       "      <td>0.008</td>\n",
       "      <td>1.000000</td>\n",
       "      <td>0.178696</td>\n",
       "      <td>0.0</td>\n",
       "      <td>0.797668</td>\n",
       "      <td>0.196970</td>\n",
       "      <td>0.035714</td>\n",
       "      <td>0.517391</td>\n",
       "      <td>0.0</td>\n",
       "      <td>1</td>\n",
       "    </tr>\n",
       "  </tbody>\n",
       "</table>\n",
       "<p>45000 rows × 14 columns</p>\n",
       "</div>"
      ]
     },
     "execution_count": 104,
     "metadata": {},
     "output_type": "execute_result"
    }
   ],
   "execution_count": 104
  },
  {
   "metadata": {
    "ExecuteTime": {
     "end_time": "2025-01-16T03:25:37.750064Z",
     "start_time": "2025-01-16T03:25:37.729182Z"
    }
   },
   "cell_type": "code",
   "source": [
    "class LoanDataset(Dataset):\n",
    "    def __init__(self, current_slice):\n",
    "\n",
    "        # Convert to numpy\n",
    "        xy = scaledDataFrame.to_numpy()\n",
    "        sliced_xy = xy[current_slice]\n",
    "        self.x = torch.from_numpy(sliced_xy[:, :-1]).float()  # all columns except last\n",
    "        self.y = torch.from_numpy(sliced_xy[:, [-1]]).float()\n",
    "        self.n_samples = sliced_xy.shape[0]\n",
    "        \n",
    "    def __getitem__(self, index):\n",
    "        return self.x[index], self.y[index]\n",
    "    \n",
    "    def __len__(self):\n",
    "        return self.n_samples\n",
    "\n",
    "pct = .8\n",
    "split = int(pct*45000)\n",
    "trainData = LoanDataset(slice(None,split))\n",
    "testData = LoanDataset(slice(split,None))\n",
    "trainDataLoader = DataLoader(trainData, 45, True)\n",
    "testDataLoader = DataLoader(testData, 45, True)\n",
    "trainData[0], trainData[4], testData[0]"
   ],
   "id": "initial_id",
   "outputs": [
    {
     "data": {
      "text/plain": [
       "((tensor([0.0161, 0.0000, 1.0000, 0.0089, 0.0000, 1.0000, 1.0000, 0.8000, 0.7270,\n",
       "          0.7424, 0.0357, 0.3717, 0.0000]),\n",
       "  tensor([1.])),\n",
       " (tensor([0.0323, 1.0000, 1.0000, 0.0081, 0.0080, 1.0000, 1.0000, 0.6000, 0.6070,\n",
       "          0.8030, 0.0714, 0.4261, 0.0000]),\n",
       "  tensor([1.])),\n",
       " (tensor([0.0323, 1.0000, 0.7500, 0.0044, 0.0320, 0.6667, 0.0874, 0.6000, 0.6015,\n",
       "          0.1364, 0.0357, 0.5130, 1.0000]),\n",
       "  tensor([0.])))"
      ]
     },
     "execution_count": 105,
     "metadata": {},
     "output_type": "execute_result"
    }
   ],
   "execution_count": 105
  },
  {
   "metadata": {
    "ExecuteTime": {
     "end_time": "2025-01-16T03:27:03.028110Z",
     "start_time": "2025-01-16T03:25:37.751064Z"
    }
   },
   "cell_type": "code",
   "source": [
    "def accuracy(predictions, actual):\n",
    "    correct = torch.eq(actual, predictions).sum().item()\n",
    "    acc = correct / len(actual)\n",
    "    return acc\n",
    "\n",
    "class Model(nn.Module):\n",
    "    def __init__(self):\n",
    "        super().__init__()\n",
    "        self.stack = nn.Sequential(\n",
    "            nn.Linear(13, 20),\n",
    "            nn.Linear(20, 20),\n",
    "            nn.Linear(20, 1)\n",
    "        )\n",
    "    \n",
    "    def forward(self, x):\n",
    "        return self.stack(x)\n",
    "    \n",
    "model = Model()\n",
    "lossFun = nn.BCEWithLogitsLoss()\n",
    "optimizer = torch.optim.SGD(model.parameters(), lr=0.01)\n",
    "epochs = 100\n",
    "for epoch in range(epochs):\n",
    "    trainLoss = 0\n",
    "    for batch, (XTrain, yTrain) in enumerate(trainDataLoader):\n",
    "        model.train()\n",
    "        yLogits = model(XTrain)\n",
    "        loss = lossFun(yLogits, yTrain)\n",
    "        trainLoss += loss\n",
    "        optimizer.zero_grad()\n",
    "        loss.backward()\n",
    "        optimizer.step()\n",
    "    trainLoss /= len(trainDataLoader)\n",
    "    \n",
    "    testLoss = 0\n",
    "    model.eval()\n",
    "    with torch.inference_mode():\n",
    "        for XTest, yTest in testDataLoader:\n",
    "            testLogits = model(XTest)\n",
    "            testPred = torch.round(torch.sigmoid(testLogits))\n",
    "            testLoss += lossFun(testPred, yTest)\n",
    "        testLoss /= len(trainDataLoader)\n",
    "        testAcc = accuracy(testPred, yTest)\n",
    "    if epoch % 10 == 0:\n",
    "        print(f'Epoch: {epoch}; Training Loss: {trainLoss.item():.3f}; Testing Loss: {testLoss.item():.3f}; Acc: {testAcc*100:.3f}%')"
   ],
   "id": "ff50f2d7f2d4430a",
   "outputs": [
    {
     "name": "stdout",
     "output_type": "stream",
     "text": [
      "Epoch: 0; Training Loss: 0.417; Testing Loss: 0.169; Acc: 77.778%\n",
      "Epoch: 10; Training Loss: 0.228; Testing Loss: 0.156; Acc: 91.111%\n",
      "Epoch: 20; Training Loss: 0.226; Testing Loss: 0.157; Acc: 88.889%\n",
      "Epoch: 30; Training Loss: 0.226; Testing Loss: 0.157; Acc: 82.222%\n",
      "Epoch: 40; Training Loss: 0.226; Testing Loss: 0.156; Acc: 86.667%\n",
      "Epoch: 50; Training Loss: 0.226; Testing Loss: 0.156; Acc: 91.111%\n",
      "Epoch: 60; Training Loss: 0.226; Testing Loss: 0.157; Acc: 84.444%\n",
      "Epoch: 70; Training Loss: 0.226; Testing Loss: 0.157; Acc: 88.889%\n",
      "Epoch: 80; Training Loss: 0.226; Testing Loss: 0.157; Acc: 86.667%\n",
      "Epoch: 90; Training Loss: 0.226; Testing Loss: 0.157; Acc: 91.111%\n"
     ]
    }
   ],
   "execution_count": 106
  },
  {
   "metadata": {
    "ExecuteTime": {
     "end_time": "2025-01-16T03:27:03.032332Z",
     "start_time": "2025-01-16T03:27:03.029110Z"
    }
   },
   "cell_type": "code",
   "source": [
    "# stuff\n",
    "# used pandas\n",
    "# added batches\n",
    "# had problems when splitting data\n",
    "# had to learn about splices\n",
    "# wierd stuff with squeezing\n",
    "# had to add shuffle\n",
    "# scaled ALL the data\n",
    "# counted the data\n",
    "# loss function IS with logits\n",
    "# accuracy function\n",
    "# lowered learning rate"
   ],
   "id": "8a0b39bb69325285",
   "outputs": [],
   "execution_count": 107
  }
 ],
 "metadata": {
  "kernelspec": {
   "display_name": "Python 3",
   "language": "python",
   "name": "python3"
  },
  "language_info": {
   "codemirror_mode": {
    "name": "ipython",
    "version": 2
   },
   "file_extension": ".py",
   "mimetype": "text/x-python",
   "name": "python",
   "nbconvert_exporter": "python",
   "pygments_lexer": "ipython2",
   "version": "2.7.6"
  }
 },
 "nbformat": 4,
 "nbformat_minor": 5
}
