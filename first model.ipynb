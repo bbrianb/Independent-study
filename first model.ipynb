{
 "cells": [
  {
   "cell_type": "code",
   "execution_count": 252,
   "metadata": {
    "jupyter": {
     "is_executing": true
    }
   },
   "outputs": [
    {
     "data": {
      "text/html": [
       "<div>\n",
       "<style scoped>\n",
       "    .dataframe tbody tr th:only-of-type {\n",
       "        vertical-align: middle;\n",
       "    }\n",
       "\n",
       "    .dataframe tbody tr th {\n",
       "        vertical-align: top;\n",
       "    }\n",
       "\n",
       "    .dataframe thead th {\n",
       "        text-align: right;\n",
       "    }\n",
       "</style>\n",
       "<table border=\"1\" class=\"dataframe\">\n",
       "  <thead>\n",
       "    <tr style=\"text-align: right;\">\n",
       "      <th></th>\n",
       "      <th>x</th>\n",
       "      <th>y</th>\n",
       "    </tr>\n",
       "  </thead>\n",
       "  <tbody>\n",
       "    <tr>\n",
       "      <th>0</th>\n",
       "      <td>0.00</td>\n",
       "      <td>0.300</td>\n",
       "    </tr>\n",
       "    <tr>\n",
       "      <th>1</th>\n",
       "      <td>0.02</td>\n",
       "      <td>0.314</td>\n",
       "    </tr>\n",
       "    <tr>\n",
       "      <th>2</th>\n",
       "      <td>0.04</td>\n",
       "      <td>0.328</td>\n",
       "    </tr>\n",
       "    <tr>\n",
       "      <th>3</th>\n",
       "      <td>0.06</td>\n",
       "      <td>0.342</td>\n",
       "    </tr>\n",
       "    <tr>\n",
       "      <th>4</th>\n",
       "      <td>0.08</td>\n",
       "      <td>0.356</td>\n",
       "    </tr>\n",
       "  </tbody>\n",
       "</table>\n",
       "</div>"
      ],
      "text/plain": [
       "      x      y\n",
       "0  0.00  0.300\n",
       "1  0.02  0.314\n",
       "2  0.04  0.328\n",
       "3  0.06  0.342\n",
       "4  0.08  0.356"
      ]
     },
     "execution_count": 252,
     "metadata": {},
     "output_type": "execute_result"
    }
   ],
   "source": [
    "import numpy as np\n",
    "import pandas as pd\n",
    "weight = 0.7\n",
    "bias = 0.3\n",
    "start = 0\n",
    "stop = 1\n",
    "step = 0.02\n",
    "x = np.arange(start, stop, step)\n",
    "y = weight * x + bias\n",
    "data = {'x': x,\n",
    "        'y': y\n",
    "}\n",
    "frame = pd.DataFrame(data)\n",
    "frame.head()"
   ]
  },
  {
   "cell_type": "code",
   "execution_count": 253,
   "metadata": {
    "ExecuteTime": {
     "end_time": "2024-09-25T22:00:45.297434Z",
     "start_time": "2024-09-25T22:00:45.177885Z"
    }
   },
   "outputs": [
    {
     "data": {
      "text/plain": [
       "<matplotlib.collections.PathCollection at 0x26e6058a8d0>"
      ]
     },
     "execution_count": 253,
     "metadata": {},
     "output_type": "execute_result"
    },
    {
     "data": {
      "image/png": "[encoded data removed]",
      "text/plain": [
       "<Figure size 640x480 with 1 Axes>"
      ]
     },
     "metadata": {},
     "output_type": "display_data"
    }
   ],
   "source": [
    "import matplotlib.pyplot as plt\n",
    "plt.scatter(x, y, 4)"
   ]
  },
  {
   "cell_type": "code",
   "execution_count": 254,
   "metadata": {
    "ExecuteTime": {
     "end_time": "2024-09-25T22:00:45.490763Z",
     "start_time": "2024-09-25T22:00:45.297434Z"
    }
   },
   "outputs": [
    {
     "data": {
      "text/plain": [
       "<matplotlib.legend.Legend at 0x26e605b3bf0>"
      ]
     },
     "execution_count": 254,
     "metadata": {},
     "output_type": "execute_result"
    },
    {
     "data": {
      "image/png": "[encoded data removed]",
      "text/plain": [
       "<Figure size 640x480 with 1 Axes>"
      ]
     },
     "metadata": {},
     "output_type": "display_data"
    }
   ],
   "source": [
    "import torch\n",
    "trainingSplit = int(0.8 * len(x))\n",
    "XTrain = x[:trainingSplit]\n",
    "yTrain = y[:trainingSplit]\n",
    "XTest = x[trainingSplit:]\n",
    "yTest = y[trainingSplit:]\n",
    "data = [XTrain, yTrain, XTest, yTest]\n",
    "for i, arr in enumerate(data):\n",
    "    # We need to turn the data into tensors so we can use PyTorch functions on the data.\n",
    "    data[i] = torch.from_numpy(arr).to(torch.float).unsqueeze(1)\n",
    "XTrain, yTrain, XTest, yTest = data\n",
    "plt.scatter(XTrain, yTrain, 4, label='Training Data')\n",
    "plt.scatter(XTest, yTest, 4, label='Testing Data')\n",
    "plt.legend()"
   ]
  },
  {
   "cell_type": "markdown",
   "metadata": {},
   "source": [
    "In PyTorch's torch.nn there is a class called Linear that provides a weight and a bias. The formula for a linear function is y = xA + b, where A is the weight and b is the bias."
   ]
  },
  {
   "cell_type": "code",
   "execution_count": 255,
   "metadata": {
    "ExecuteTime": {
     "end_time": "2024-09-25T22:00:45.503643Z",
     "start_time": "2024-09-25T22:00:45.490763Z"
    }
   },
   "outputs": [
    {
     "data": {
      "text/plain": [
       "(0.7,\n",
       " 0.3,\n",
       " OrderedDict([('weight', tensor([[0.1650]])), ('bias', tensor([0.3295]))]))"
      ]
     },
     "execution_count": 255,
     "metadata": {},
     "output_type": "execute_result"
    }
   ],
   "source": [
    "from torch import nn\n",
    "model = nn.Linear(1, 1)\n",
    "weight, bias, model.state_dict()"
   ]
  },
  {
   "cell_type": "code",
   "execution_count": 256,
   "metadata": {},
   "outputs": [
    {
     "data": {
      "text/plain": [
       "(tensor([[0.8000],\n",
       "         [0.8200],\n",
       "         [0.8400],\n",
       "         [0.8600],\n",
       "         [0.8800],\n",
       "         [0.9000],\n",
       "         [0.9200],\n",
       "         [0.9400],\n",
       "         [0.9600],\n",
       "         [0.9800]]),\n",
       " tensor([[0.1650]]),\n",
       " torch.Size([10, 1]),\n",
       " torch.Size([1, 1]))"
      ]
     },
     "execution_count": 256,
     "metadata": {},
     "output_type": "execute_result"
    }
   ],
   "source": [
    "initialWeight = model.state_dict()['weight']\n",
    "XTest, initialWeight, XTest.shape, initialWeight.shape"
   ]
  },
  {
   "cell_type": "markdown",
   "metadata": {},
   "source": [
    "We can't do matrix multiplication unless the second dimension of the first matrix is the same as the first dimension of the second matrix. The first matrix is the tensor of x-values and the second matrix is the weight. Thus we needed to make the shape of the tensor end in a 1. PyTorch has a function called unsqueeze that adds a dimension of size 1 at the specified position. Instead of containing numbers, the tensor now contains tensors that each have 1 number."
   ]
  },
  {
   "cell_type": "code",
   "execution_count": 257,
   "metadata": {
    "ExecuteTime": {
     "end_time": "2024-09-25T22:00:45.726714Z",
     "start_time": "2024-09-25T22:00:45.503643Z"
    }
   },
   "outputs": [
    {
     "data": {
      "image/png": "[encoded data removed]",
      "text/plain": [
       "<Figure size 640x480 with 1 Axes>"
      ]
     },
     "metadata": {},
     "output_type": "display_data"
    }
   ],
   "source": [
    "def predict_and_plot():\n",
    "    # turns off requires grad which matplotlib doesn't like\n",
    "    with torch.inference_mode():\n",
    "        yPredictions = model(XTest)\n",
    "    plt.scatter(XTrain, yTrain, 4, label='Training Data')\n",
    "    plt.scatter(XTest, yTest, 4, label='Testing Data')\n",
    "    plt.scatter(XTest, yPredictions, 4, label='Predictions')\n",
    "    plt.legend()\n",
    "predict_and_plot()"
   ]
  },
  {
   "cell_type": "markdown",
   "metadata": {},
   "source": [
    "The loss function measures the mean absolute error between the model's predictions and the actual data. Mean absolute error is the average distance between the prediction and the true value. It is calculated as the sum of all the absolute values of each prediction minus each true value divided by the number of predictions.\n",
    "The optimizer is what changes the parameters of a function. This optimizer uses stochastic gradient descent (SGD). SGD has a parameter lr which is the learning rate."
   ]
  },
  {
   "cell_type": "code",
   "execution_count": 258,
   "metadata": {
    "ExecuteTime": {
     "end_time": "2024-09-25T23:07:36.162690Z",
     "start_time": "2024-09-25T23:07:35.693181Z"
    }
   },
   "outputs": [
    {
     "data": {
      "text/html": [
       "<div>\n",
       "<style scoped>\n",
       "    .dataframe tbody tr th:only-of-type {\n",
       "        vertical-align: middle;\n",
       "    }\n",
       "\n",
       "    .dataframe tbody tr th {\n",
       "        vertical-align: top;\n",
       "    }\n",
       "\n",
       "    .dataframe thead th {\n",
       "        text-align: right;\n",
       "    }\n",
       "</style>\n",
       "<table border=\"1\" class=\"dataframe\">\n",
       "  <thead>\n",
       "    <tr style=\"text-align: right;\">\n",
       "      <th></th>\n",
       "      <th>loss</th>\n",
       "      <th>test loss</th>\n",
       "    </tr>\n",
       "  </thead>\n",
       "  <tbody>\n",
       "    <tr>\n",
       "      <th>0</th>\n",
       "      <td>0.182009</td>\n",
       "      <td>0.434749</td>\n",
       "    </tr>\n",
       "    <tr>\n",
       "      <th>1</th>\n",
       "      <td>0.173591</td>\n",
       "      <td>0.423332</td>\n",
       "    </tr>\n",
       "    <tr>\n",
       "      <th>2</th>\n",
       "      <td>0.165905</td>\n",
       "      <td>0.412450</td>\n",
       "    </tr>\n",
       "    <tr>\n",
       "      <th>3</th>\n",
       "      <td>0.158891</td>\n",
       "      <td>0.402112</td>\n",
       "    </tr>\n",
       "    <tr>\n",
       "      <th>4</th>\n",
       "      <td>0.152584</td>\n",
       "      <td>0.391775</td>\n",
       "    </tr>\n",
       "    <tr>\n",
       "      <th>...</th>\n",
       "      <td>...</td>\n",
       "      <td>...</td>\n",
       "    </tr>\n",
       "    <tr>\n",
       "      <th>1995</th>\n",
       "      <td>0.004574</td>\n",
       "      <td>0.004376</td>\n",
       "    </tr>\n",
       "    <tr>\n",
       "      <th>1996</th>\n",
       "      <td>0.006947</td>\n",
       "      <td>0.009095</td>\n",
       "    </tr>\n",
       "    <tr>\n",
       "      <th>1997</th>\n",
       "      <td>0.004574</td>\n",
       "      <td>0.004376</td>\n",
       "    </tr>\n",
       "    <tr>\n",
       "      <th>1998</th>\n",
       "      <td>0.006947</td>\n",
       "      <td>0.009095</td>\n",
       "    </tr>\n",
       "    <tr>\n",
       "      <th>1999</th>\n",
       "      <td>0.004574</td>\n",
       "      <td>0.004376</td>\n",
       "    </tr>\n",
       "  </tbody>\n",
       "</table>\n",
       "<p>2000 rows × 2 columns</p>\n",
       "</div>"
      ],
      "text/plain": [
       "          loss  test loss\n",
       "0     0.182009   0.434749\n",
       "1     0.173591   0.423332\n",
       "2     0.165905   0.412450\n",
       "3     0.158891   0.402112\n",
       "4     0.152584   0.391775\n",
       "...        ...        ...\n",
       "1995  0.004574   0.004376\n",
       "1996  0.006947   0.009095\n",
       "1997  0.004574   0.004376\n",
       "1998  0.006947   0.009095\n",
       "1999  0.004574   0.004376\n",
       "\n",
       "[2000 rows x 2 columns]"
      ]
     },
     "execution_count": 258,
     "metadata": {},
     "output_type": "execute_result"
    }
   ],
   "source": [
    "lossFun = nn.L1Loss()\n",
    "optimizer = torch.optim.SGD(model.parameters(), lr=0.01)\n",
    "epochs = 2000\n",
    "lossArray = np.array([])\n",
    "testLossArray = np.array([])\n",
    "for epoch in range(epochs):\n",
    "    # turns on train mode\n",
    "    model.train()\n",
    "    # make predictions\n",
    "    yPredictions = model(XTrain)\n",
    "    # calculatethe loss\n",
    "    loss = lossFun(yPredictions, yTrain)\n",
    "    # make the model better\n",
    "    optimizer.zero_grad()\n",
    "    loss.backward()\n",
    "    optimizer.step()\n",
    "    # turns off train mode\n",
    "    model.eval()\n",
    "    # see how well the model does now\n",
    "    with torch.inference_mode():\n",
    "        testPredictions = model(XTest)\n",
    "        testLoss = lossFun(testPredictions, yTest)\n",
    "    # record the data\n",
    "    lossArray = np.append(lossArray, loss.item())\n",
    "    testLossArray = np.append(testLossArray, testLoss.item())\n",
    "data = {\n",
    "    \"loss\": lossArray,\n",
    "    \"test loss\": testLossArray\n",
    "}\n",
    "pd.DataFrame(data)"
   ]
  },
  {
   "cell_type": "code",
   "execution_count": 259,
   "metadata": {},
   "outputs": [
    {
     "data": {
      "text/plain": [
       "(0.7,\n",
       " 0.3,\n",
       " OrderedDict([('weight', tensor([[0.6949]])), ('bias', tensor([0.3090]))]))"
      ]
     },
     "execution_count": 259,
     "metadata": {},
     "output_type": "execute_result"
    }
   ],
   "source": [
    "weight, bias, model.state_dict()"
   ]
  },
  {
   "cell_type": "code",
   "execution_count": 260,
   "metadata": {},
   "outputs": [
    {
     "data": {
      "image/png": "[encoded data removed]",
      "text/plain": [
       "<Figure size 640x480 with 1 Axes>"
      ]
     },
     "metadata": {},
     "output_type": "display_data"
    }
   ],
   "source": [
    "predict_and_plot()"
   ]
  }
 ],
 "metadata": {
  "kernelspec": {
   "display_name": "Python 3",
   "language": "python",
   "name": "python3"
  },
  "language_info": {
   "codemirror_mode": {
    "name": "ipython",
    "version": 3
   },
   "file_extension": ".py",
   "mimetype": "text/x-python",
   "name": "python",
   "nbconvert_exporter": "python",
   "pygments_lexer": "ipython3",
   "version": "3.12.6"
  }
 },
 "nbformat": 4,
 "nbformat_minor": 2
}
