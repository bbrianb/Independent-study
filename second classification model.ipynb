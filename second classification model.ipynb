{
 "cells": [
  {
   "cell_type": "code",
   "id": "initial_id",
   "metadata": {
    "collapsed": true,
    "ExecuteTime": {
     "end_time": "2024-11-14T02:11:36.262415Z",
     "start_time": "2024-11-14T02:11:36.258036Z"
    }
   },
   "source": [
    "import torch\n",
    "device = 'cuda' if torch.cuda.is_available() else 'cpu'\n",
    "device"
   ],
   "outputs": [
    {
     "data": {
      "text/plain": [
       "'cuda'"
      ]
     },
     "execution_count": 4,
     "metadata": {},
     "output_type": "execute_result"
    }
   ],
   "execution_count": 4
  },
  {
   "metadata": {
    "ExecuteTime": {
     "end_time": "2024-11-14T02:11:36.364243Z",
     "start_time": "2024-11-14T02:11:36.265432Z"
    }
   },
   "cell_type": "code",
   "source": [
    "from torchvision import datasets\n",
    "from torchvision.transforms import ToTensor\n",
    "trainData = datasets.MNIST(root='data', transform=ToTensor(), download=True)\n",
    "testData = datasets.MNIST(root='data', train=False, transform=ToTensor(), download=True)"
   ],
   "id": "b8cb7743e6621198",
   "outputs": [],
   "execution_count": 5
  },
  {
   "metadata": {
    "ExecuteTime": {
     "end_time": "2024-11-14T02:11:36.371537Z",
     "start_time": "2024-11-14T02:11:36.366241Z"
    }
   },
   "cell_type": "code",
   "source": [
    "# number of pictures\n",
    "len(trainData), len(testData)"
   ],
   "id": "9f244c477cbfda42",
   "outputs": [
    {
     "data": {
      "text/plain": [
       "(60000, 10000)"
      ]
     },
     "execution_count": 6,
     "metadata": {},
     "output_type": "execute_result"
    }
   ],
   "execution_count": 6
  },
  {
   "metadata": {
    "ExecuteTime": {
     "end_time": "2024-11-14T02:12:03.465138Z",
     "start_time": "2024-11-14T02:12:03.459388Z"
    }
   },
   "cell_type": "code",
   "source": [
    "classNames = trainData.classes\n",
    "classNames, len(classNames)"
   ],
   "id": "61e15f7d53ea21b0",
   "outputs": [
    {
     "data": {
      "text/plain": [
       "(['0 - zero',\n",
       "  '1 - one',\n",
       "  '2 - two',\n",
       "  '3 - three',\n",
       "  '4 - four',\n",
       "  '5 - five',\n",
       "  '6 - six',\n",
       "  '7 - seven',\n",
       "  '8 - eight',\n",
       "  '9 - nine'],\n",
       " 10)"
      ]
     },
     "execution_count": 7,
     "metadata": {},
     "output_type": "execute_result"
    }
   ],
   "execution_count": 7
  },
  {
   "metadata": {
    "ExecuteTime": {
     "end_time": "2024-11-14T02:12:33.631004Z",
     "start_time": "2024-11-14T02:12:33.611661Z"
    }
   },
   "cell_type": "code",
   "source": [
    "image, label = testData[0]\n",
    "label, classNames[label], image.shape"
   ],
   "id": "e557c0d761f1cb34",
   "outputs": [
    {
     "data": {
      "text/plain": [
       "(7, '7 - seven', torch.Size([1, 28, 28]))"
      ]
     },
     "execution_count": 8,
     "metadata": {},
     "output_type": "execute_result"
    }
   ],
   "execution_count": 8
  },
  {
   "metadata": {
    "ExecuteTime": {
     "end_time": "2024-11-14T02:13:01.459987Z",
     "start_time": "2024-11-14T02:13:00.580407Z"
    }
   },
   "cell_type": "code",
   "source": [
    "import matplotlib.pyplot as plt\n",
    "plt.imshow(image.squeeze(), cmap='gray')"
   ],
   "id": "de64331bfd277a95",
   "outputs": [
    {
     "data": {
      "text/plain": [
       "<matplotlib.image.AxesImage at 0x2db18d26090>"
      ]
     },
     "execution_count": 9,
     "metadata": {},
     "output_type": "execute_result"
    },
    {
     "data": {
      "text/plain": [
       "<Figure size 640x480 with 1 Axes>"
      ],
      "image/png": "[encoded data removed]"
     },
     "metadata": {},
     "output_type": "display_data"
    }
   ],
   "execution_count": 9
  },
  {
   "metadata": {
    "ExecuteTime": {
     "end_time": "2024-11-14T02:14:28.126275Z",
     "start_time": "2024-11-14T02:14:28.119041Z"
    }
   },
   "cell_type": "code",
   "source": [
    "from torch.utils.data import DataLoader\n",
    "batchSize = 32\n",
    "trainDL = DataLoader(trainData, batchSize)\n",
    "testDL = DataLoader(testData, batchSize)\n",
    "len(trainDL), len(testDL), len(trainDL) * batchSize, len(testDL) * batchSize"
   ],
   "id": "fb77cc5da21974b0",
   "outputs": [
    {
     "data": {
      "text/plain": [
       "(1875, 313, 60000, 10016)"
      ]
     },
     "execution_count": 10,
     "metadata": {},
     "output_type": "execute_result"
    }
   ],
   "execution_count": 10
  },
  {
   "metadata": {
    "ExecuteTime": {
     "end_time": "2024-11-14T02:15:45.639940Z",
     "start_time": "2024-11-14T02:15:45.628627Z"
    }
   },
   "cell_type": "code",
   "source": [
    "firstBatch = next(iter(trainDL))\n",
    "firstBatchImages, firstBatchLabels = firstBatch\n",
    "firstBatchImages.shape, firstBatchLabels.shape"
   ],
   "id": "1522b52070b1fffd",
   "outputs": [
    {
     "data": {
      "text/plain": [
       "(torch.Size([32, 1, 28, 28]), torch.Size([32]))"
      ]
     },
     "execution_count": 20,
     "metadata": {},
     "output_type": "execute_result"
    }
   ],
   "execution_count": 20
  },
  {
   "metadata": {
    "ExecuteTime": {
     "end_time": "2024-11-14T02:16:46.491003Z",
     "start_time": "2024-11-14T02:16:46.485245Z"
    }
   },
   "cell_type": "code",
   "source": [
    "from torch import nn\n",
    "image = firstBatchImages[0]\n",
    "flatten = nn.Flatten()\n",
    "flatImage = flatten(image)\n",
    "image.shape, flatImage.shape, 28*28"
   ],
   "id": "1ed2872b142c501d",
   "outputs": [
    {
     "data": {
      "text/plain": [
       "(torch.Size([1, 28, 28]), torch.Size([1, 784]), 784)"
      ]
     },
     "execution_count": 21,
     "metadata": {},
     "output_type": "execute_result"
    }
   ],
   "execution_count": 21
  },
  {
   "metadata": {
    "ExecuteTime": {
     "end_time": "2024-11-14T02:19:55.189025Z",
     "start_time": "2024-11-14T02:19:55.180535Z"
    }
   },
   "cell_type": "code",
   "source": [
    "class Model(nn.Module):\n",
    "    def __init__(self, input_shape, hidden_units, output_shape):\n",
    "        super().__init__()\n",
    "        self.stack = nn.Sequential(\n",
    "            nn.Flatten(),\n",
    "            nn.Linear(input_shape, hidden_units),\n",
    "            nn.Linear(hidden_units, output_shape)\n",
    "        )\n",
    "    def forward(self, x):\n",
    "        return self.stack(x)\n",
    "model = Model(input_shape=28*28, hidden_units=10, output_shape=len(classNames))\n",
    "model.to(device), next(model.parameters()).device"
   ],
   "id": "a8c6fb8a0c00eaf2",
   "outputs": [
    {
     "data": {
      "text/plain": [
       "(Model(\n",
       "   (stack): Sequential(\n",
       "     (0): Flatten(start_dim=1, end_dim=-1)\n",
       "     (1): Linear(in_features=784, out_features=10, bias=True)\n",
       "     (2): Linear(in_features=10, out_features=10, bias=True)\n",
       "   )\n",
       " ),\n",
       " device(type='cuda', index=0))"
      ]
     },
     "execution_count": 31,
     "metadata": {},
     "output_type": "execute_result"
    }
   ],
   "execution_count": 31
  }
 ],
 "metadata": {
  "kernelspec": {
   "display_name": "Python 3",
   "language": "python",
   "name": "python3"
  },
  "language_info": {
   "codemirror_mode": {
    "name": "ipython",
    "version": 2
   },
   "file_extension": ".py",
   "mimetype": "text/x-python",
   "name": "python",
   "nbconvert_exporter": "python",
   "pygments_lexer": "ipython2",
   "version": "2.7.6"
  }
 },
 "nbformat": 4,
 "nbformat_minor": 5
}
