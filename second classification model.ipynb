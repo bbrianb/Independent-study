{
 "cells": [
  {
   "cell_type": "code",
   "id": "initial_id",
   "metadata": {
    "collapsed": true,
    "ExecuteTime": {
     "end_time": "2024-11-14T04:11:07.043758Z",
     "start_time": "2024-11-14T04:11:07.038399Z"
    }
   },
   "source": [
    "import torch\n",
    "device = 'cuda' if torch.cuda.is_available() else 'cpu'\n",
    "device"
   ],
   "outputs": [
    {
     "data": {
      "text/plain": [
       "'cuda'"
      ]
     },
     "execution_count": 80,
     "metadata": {},
     "output_type": "execute_result"
    }
   ],
   "execution_count": 80
  },
  {
   "metadata": {
    "ExecuteTime": {
     "end_time": "2024-11-14T04:11:07.102660Z",
     "start_time": "2024-11-14T04:11:07.051740Z"
    }
   },
   "cell_type": "code",
   "source": [
    "from torchvision import datasets\n",
    "from torchvision.transforms import ToTensor\n",
    "trainData = datasets.MNIST(root='data', transform=ToTensor(), download=True)\n",
    "testData = datasets.MNIST(root='data', train=False, transform=ToTensor(), download=True)"
   ],
   "id": "b8cb7743e6621198",
   "outputs": [],
   "execution_count": 81
  },
  {
   "metadata": {
    "ExecuteTime": {
     "end_time": "2024-11-14T04:11:07.109097Z",
     "start_time": "2024-11-14T04:11:07.103660Z"
    }
   },
   "cell_type": "code",
   "source": [
    "# number of pictures\n",
    "len(trainData), len(testData)"
   ],
   "id": "9f244c477cbfda42",
   "outputs": [
    {
     "data": {
      "text/plain": [
       "(60000, 10000)"
      ]
     },
     "execution_count": 82,
     "metadata": {},
     "output_type": "execute_result"
    }
   ],
   "execution_count": 82
  },
  {
   "metadata": {
    "ExecuteTime": {
     "end_time": "2024-11-14T04:11:07.113957Z",
     "start_time": "2024-11-14T04:11:07.110096Z"
    }
   },
   "cell_type": "code",
   "source": [
    "classNames = trainData.classes\n",
    "classNames, len(classNames)"
   ],
   "id": "61e15f7d53ea21b0",
   "outputs": [
    {
     "data": {
      "text/plain": [
       "(['0 - zero',\n",
       "  '1 - one',\n",
       "  '2 - two',\n",
       "  '3 - three',\n",
       "  '4 - four',\n",
       "  '5 - five',\n",
       "  '6 - six',\n",
       "  '7 - seven',\n",
       "  '8 - eight',\n",
       "  '9 - nine'],\n",
       " 10)"
      ]
     },
     "execution_count": 83,
     "metadata": {},
     "output_type": "execute_result"
    }
   ],
   "execution_count": 83
  },
  {
   "metadata": {
    "ExecuteTime": {
     "end_time": "2024-11-14T04:11:07.125517Z",
     "start_time": "2024-11-14T04:11:07.116952Z"
    }
   },
   "cell_type": "code",
   "source": [
    "from torch.utils.data import DataLoader\n",
    "batchSize = 32\n",
    "trainDL = DataLoader(trainData, batchSize)\n",
    "testDL = DataLoader(testData, batchSize)\n",
    "# length of a DL is how many batches it has\n",
    "len(trainDL), len(testDL), len(trainDL) * batchSize, len(testDL) * batchSize"
   ],
   "id": "fb77cc5da21974b0",
   "outputs": [
    {
     "data": {
      "text/plain": [
       "(1875, 313, 60000, 10016)"
      ]
     },
     "execution_count": 84,
     "metadata": {},
     "output_type": "execute_result"
    }
   ],
   "execution_count": 84
  },
  {
   "metadata": {
    "ExecuteTime": {
     "end_time": "2024-11-14T04:11:07.147139Z",
     "start_time": "2024-11-14T04:11:07.137490Z"
    }
   },
   "cell_type": "code",
   "source": [
    "firstBatch = next(iter(trainDL))\n",
    "firstBatchImages, firstBatchLabels = firstBatch\n",
    "firstBatchImages.shape, firstBatchLabels.shape"
   ],
   "id": "1522b52070b1fffd",
   "outputs": [
    {
     "data": {
      "text/plain": [
       "(torch.Size([32, 1, 28, 28]), torch.Size([32]))"
      ]
     },
     "execution_count": 85,
     "metadata": {},
     "output_type": "execute_result"
    }
   ],
   "execution_count": 85
  },
  {
   "metadata": {
    "ExecuteTime": {
     "end_time": "2024-11-14T04:11:07.154060Z",
     "start_time": "2024-11-14T04:11:07.148140Z"
    }
   },
   "cell_type": "code",
   "source": [
    "from torch import nn\n",
    "image = firstBatchImages[0]\n",
    "flatten = nn.Flatten()\n",
    "flatImage = flatten(image)\n",
    "image.shape, flatImage.shape, 28*28"
   ],
   "id": "1ed2872b142c501d",
   "outputs": [
    {
     "data": {
      "text/plain": [
       "(torch.Size([1, 28, 28]), torch.Size([1, 784]), 784)"
      ]
     },
     "execution_count": 86,
     "metadata": {},
     "output_type": "execute_result"
    }
   ],
   "execution_count": 86
  },
  {
   "metadata": {
    "ExecuteTime": {
     "end_time": "2024-11-14T04:11:07.185222Z",
     "start_time": "2024-11-14T04:11:07.175008Z"
    }
   },
   "cell_type": "code",
   "source": [
    "class Model(nn.Module):\n",
    "    def __init__(self, input_shape, hidden_units, output_shape):\n",
    "        super().__init__()\n",
    "        self.stack = nn.Sequential(\n",
    "            nn.Flatten(),\n",
    "            nn.Linear(input_shape, hidden_units),\n",
    "            nn.Linear(hidden_units, output_shape)\n",
    "        )\n",
    "    def forward(self, x):\n",
    "        return self.stack(x)\n",
    "model = Model(input_shape=28*28, hidden_units=10, output_shape=len(classNames))\n",
    "model.to(device), next(model.parameters()).device"
   ],
   "id": "a8c6fb8a0c00eaf2",
   "outputs": [
    {
     "data": {
      "text/plain": [
       "(Model(\n",
       "   (stack): Sequential(\n",
       "     (0): Flatten(start_dim=1, end_dim=-1)\n",
       "     (1): Linear(in_features=784, out_features=10, bias=True)\n",
       "     (2): Linear(in_features=10, out_features=10, bias=True)\n",
       "   )\n",
       " ),\n",
       " device(type='cuda', index=0))"
      ]
     },
     "execution_count": 87,
     "metadata": {},
     "output_type": "execute_result"
    }
   ],
   "execution_count": 87
  },
  {
   "metadata": {
    "ExecuteTime": {
     "end_time": "2024-11-14T04:11:07.310066Z",
     "start_time": "2024-11-14T04:11:07.195197Z"
    }
   },
   "cell_type": "code",
   "source": [
    "import matplotlib.pyplot as plt\n",
    "def check_prediction(number):\n",
    "    img, lbl = testData[number]\n",
    "    plt.imshow(img.squeeze(), cmap='gray')\n",
    "    plt.show()\n",
    "    output = model(img.to(device))\n",
    "    print(f'{output=}')\n",
    "    print(f'Image Number: {number} |Prediction: {output.argmax().item()} | Label: {lbl}')\n",
    "check_prediction(0)"
   ],
   "id": "10141dbd63dc05ff",
   "outputs": [
    {
     "data": {
      "text/plain": [
       "<Figure size 640x480 with 1 Axes>"
      ],
      "image/png": "[encoded data removed]"
     },
     "metadata": {},
     "output_type": "display_data"
    },
    {
     "name": "stdout",
     "output_type": "stream",
     "text": [
      "output=tensor([[-0.2099, -0.1817,  0.1707,  0.2203,  0.1850, -0.1956, -0.1923,  0.0126,\n",
      "         -0.0793,  0.1741]], device='cuda:0', grad_fn=<AddmmBackward0>)\n",
      "Image Number: 0 |Prediction: 3 | Label: 7\n"
     ]
    }
   ],
   "execution_count": 88
  },
  {
   "metadata": {
    "ExecuteTime": {
     "end_time": "2024-11-14T04:16:25.591503Z",
     "start_time": "2024-11-14T04:11:07.314059Z"
    }
   },
   "cell_type": "code",
   "source": [
    "optimizer = torch.optim.SGD(model.parameters(), lr=0.01)\n",
    "lossFun = nn.CrossEntropyLoss()\n",
    "epochs = 30\n",
    "incorrect = []\n",
    "for epoch in range(epochs):\n",
    "    trainLoss = 0\n",
    "    model.train()\n",
    "    for batchCounter, (currentBatch, currentLabels) in enumerate(trainDL):\n",
    "        currentBatch = currentBatch.to(device)\n",
    "        currentLabels = currentLabels.to(device)\n",
    "        yPred = model(currentBatch)\n",
    "        \n",
    "        loss = lossFun(yPred, currentLabels)\n",
    "        trainLoss += loss\n",
    "        \n",
    "        optimizer.zero_grad()\n",
    "        \n",
    "        loss.backward()\n",
    "        \n",
    "        optimizer.step()\n",
    "    # loss for all the batches divided by the number of batches\n",
    "    trainLoss /= len(trainDL)\n",
    "    \n",
    "    testLoss = 0\n",
    "    accuracy = 0\n",
    "    model.eval()\n",
    "    with torch.inference_mode():\n",
    "        for batchCounter, (currentBatch, currentLabels) in enumerate(testDL):\n",
    "            currentBatch = currentBatch.to(device)\n",
    "            currentLabels = currentLabels.to(device)\n",
    "            testPred = model(currentBatch)            \n",
    "            testLoss = lossFun(testPred, currentLabels)\n",
    "            for imageCounter, (pred, target) in enumerate(zip(testPred, currentLabels)):\n",
    "                if pred.argmax().item() == target.item():\n",
    "                    accuracy += 1\n",
    "                elif epoch == epochs - 1:\n",
    "                    incorrect.append(batchCounter * batchSize + imageCounter) \n",
    "        # this needs inference mode\n",
    "        testLoss /= len(testDL)\n",
    "    accuracy = accuracy / len(testData)\n",
    "    print(f'Epoch: {epoch:02} | Test loss: {testLoss:.4f} | Train loss: {trainLoss:.4f} | Accuracy: {accuracy*100:.2f}%')"
   ],
   "id": "5a8dd620e80cc9f",
   "outputs": [
    {
     "name": "stdout",
     "output_type": "stream",
     "text": [
      "Epoch: 00 | Test loss: 0.0009 | Train loss: 0.8584 | Accuracy: 88.78%\n",
      "Epoch: 01 | Test loss: 0.0006 | Train loss: 0.3897 | Accuracy: 90.30%\n",
      "Epoch: 02 | Test loss: 0.0005 | Train loss: 0.3425 | Accuracy: 91.19%\n",
      "Epoch: 03 | Test loss: 0.0005 | Train loss: 0.3218 | Accuracy: 91.57%\n",
      "Epoch: 04 | Test loss: 0.0005 | Train loss: 0.3094 | Accuracy: 91.77%\n",
      "Epoch: 05 | Test loss: 0.0005 | Train loss: 0.3009 | Accuracy: 91.95%\n",
      "Epoch: 06 | Test loss: 0.0005 | Train loss: 0.2945 | Accuracy: 92.00%\n",
      "Epoch: 07 | Test loss: 0.0005 | Train loss: 0.2895 | Accuracy: 92.06%\n",
      "Epoch: 08 | Test loss: 0.0004 | Train loss: 0.2855 | Accuracy: 92.12%\n",
      "Epoch: 09 | Test loss: 0.0004 | Train loss: 0.2821 | Accuracy: 92.13%\n",
      "Epoch: 10 | Test loss: 0.0004 | Train loss: 0.2792 | Accuracy: 92.18%\n",
      "Epoch: 11 | Test loss: 0.0004 | Train loss: 0.2767 | Accuracy: 92.18%\n",
      "Epoch: 12 | Test loss: 0.0004 | Train loss: 0.2744 | Accuracy: 92.21%\n",
      "Epoch: 13 | Test loss: 0.0004 | Train loss: 0.2724 | Accuracy: 92.19%\n",
      "Epoch: 14 | Test loss: 0.0004 | Train loss: 0.2707 | Accuracy: 92.17%\n",
      "Epoch: 15 | Test loss: 0.0004 | Train loss: 0.2690 | Accuracy: 92.20%\n",
      "Epoch: 16 | Test loss: 0.0004 | Train loss: 0.2676 | Accuracy: 92.19%\n",
      "Epoch: 17 | Test loss: 0.0004 | Train loss: 0.2662 | Accuracy: 92.21%\n",
      "Epoch: 18 | Test loss: 0.0004 | Train loss: 0.2650 | Accuracy: 92.21%\n",
      "Epoch: 19 | Test loss: 0.0004 | Train loss: 0.2638 | Accuracy: 92.25%\n",
      "Epoch: 20 | Test loss: 0.0004 | Train loss: 0.2627 | Accuracy: 92.30%\n",
      "Epoch: 21 | Test loss: 0.0004 | Train loss: 0.2617 | Accuracy: 92.33%\n",
      "Epoch: 22 | Test loss: 0.0004 | Train loss: 0.2607 | Accuracy: 92.33%\n",
      "Epoch: 23 | Test loss: 0.0004 | Train loss: 0.2598 | Accuracy: 92.36%\n",
      "Epoch: 24 | Test loss: 0.0004 | Train loss: 0.2590 | Accuracy: 92.38%\n",
      "Epoch: 25 | Test loss: 0.0004 | Train loss: 0.2582 | Accuracy: 92.39%\n",
      "Epoch: 26 | Test loss: 0.0004 | Train loss: 0.2574 | Accuracy: 92.42%\n",
      "Epoch: 27 | Test loss: 0.0004 | Train loss: 0.2567 | Accuracy: 92.41%\n",
      "Epoch: 28 | Test loss: 0.0004 | Train loss: 0.2560 | Accuracy: 92.41%\n",
      "Epoch: 29 | Test loss: 0.0004 | Train loss: 0.2554 | Accuracy: 92.42%\n"
     ]
    }
   ],
   "execution_count": 89
  },
  {
   "metadata": {
    "ExecuteTime": {
     "end_time": "2024-11-14T04:16:25.892286Z",
     "start_time": "2024-11-14T04:16:25.592502Z"
    }
   },
   "cell_type": "code",
   "source": [
    "check_prediction(1)\n",
    "check_prediction(incorrect[0])\n",
    "check_prediction(incorrect[1])"
   ],
   "id": "f95f7d75c079592",
   "outputs": [
    {
     "data": {
      "text/plain": [
       "<Figure size 640x480 with 1 Axes>"
      ],
      "image/png": "[encoded data removed]"
     },
     "metadata": {},
     "output_type": "display_data"
    },
    {
     "name": "stdout",
     "output_type": "stream",
     "text": [
      "output=tensor([[  7.3778,   0.8611,  13.8989,   8.6443, -15.3704,   9.5308,   9.5814,\n",
      "         -22.0856,   6.9702, -12.3564]], device='cuda:0',\n",
      "       grad_fn=<AddmmBackward0>)\n",
      "Image Number: 1 |Prediction: 2 | Label: 2\n"
     ]
    },
    {
     "data": {
      "text/plain": [
       "<Figure size 640x480 with 1 Axes>"
      ],
      "image/png": "[encoded data removed]"
     },
     "metadata": {},
     "output_type": "display_data"
    },
    {
     "name": "stdout",
     "output_type": "stream",
     "text": [
      "output=tensor([[ 3.9921, -7.6066,  0.9756, -8.3138,  4.4931,  5.3810, 12.2714, -9.5045,\n",
      "          2.8430, -0.9330]], device='cuda:0', grad_fn=<AddmmBackward0>)\n",
      "Image Number: 8 |Prediction: 6 | Label: 5\n"
     ]
    },
    {
     "data": {
      "text/plain": [
       "<Figure size 640x480 with 1 Axes>"
      ],
      "image/png": "[encoded data removed]"
     },
     "metadata": {},
     "output_type": "display_data"
    },
    {
     "name": "stdout",
     "output_type": "stream",
     "text": [
      "output=tensor([[  7.6833, -13.3434,   2.0548,  -9.4831,   5.5199,   6.3046,   7.8725,\n",
      "          -4.7338,   2.5139,  -1.0882]], device='cuda:0',\n",
      "       grad_fn=<AddmmBackward0>)\n",
      "Image Number: 33 |Prediction: 6 | Label: 4\n"
     ]
    }
   ],
   "execution_count": 90
  }
 ],
 "metadata": {
  "kernelspec": {
   "display_name": "Python 3",
   "language": "python",
   "name": "python3"
  },
  "language_info": {
   "codemirror_mode": {
    "name": "ipython",
    "version": 2
   },
   "file_extension": ".py",
   "mimetype": "text/x-python",
   "name": "python",
   "nbconvert_exporter": "python",
   "pygments_lexer": "ipython2",
   "version": "2.7.6"
  }
 },
 "nbformat": 4,
 "nbformat_minor": 5
}
