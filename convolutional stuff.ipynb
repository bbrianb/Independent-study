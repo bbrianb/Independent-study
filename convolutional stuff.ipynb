{
 "cells": [
  {
   "cell_type": "code",
   "id": "initial_id",
   "metadata": {
    "collapsed": true,
    "ExecuteTime": {
     "end_time": "2025-02-14T03:35:11.926658Z",
     "start_time": "2025-02-14T03:35:11.920388Z"
    }
   },
   "source": [
    "import torch\n",
    "from torchvision.utils import make_grid\n",
    "import numpy as np\n",
    "import pandas as pd\n",
    "from sklearn.metrics import confusion_matrix"
   ],
   "outputs": [],
   "execution_count": 103
  },
  {
   "cell_type": "code",
   "id": "576e1bf257ccc8fd",
   "metadata": {
    "ExecuteTime": {
     "end_time": "2025-02-14T03:35:12.002439Z",
     "start_time": "2025-02-14T03:35:11.926658Z"
    }
   },
   "source": [
    "from torchvision import datasets\n",
    "from torchvision.transforms import ToTensor\n",
    "from torch.utils.data import DataLoader\n",
    "import torch.nn as nn\n",
    "trainData = datasets.MNIST('data', transform=ToTensor(), download=True)\n",
    "testData = datasets.MNIST('data', False, ToTensor())\n",
    "trainDL = DataLoader(trainData, 10, True)\n",
    "testDL = DataLoader(testData, 10)\n",
    "# in channels (1 image in), out channels (6 filters out), kernel size (3x3 kernel), stride length (stride 1 each time)\n",
    "conv1 = nn.Conv2d(1, 6, 3, 1)\n",
    "conv2 = nn.Conv2d(6, 16, 3, 1)\n",
    "X, y = next(iter(trainData))\n",
    "# 1 image, 28x28 size, is the number 5\n",
    "X.shape, y"
   ],
   "outputs": [
    {
     "data": {
      "text/plain": [
       "(torch.Size([1, 28, 28]), 5)"
      ]
     },
     "execution_count": 104,
     "metadata": {},
     "output_type": "execute_result"
    }
   ],
   "execution_count": 104
  },
  {
   "cell_type": "code",
   "id": "6e28650ec8f9f293",
   "metadata": {
    "ExecuteTime": {
     "end_time": "2025-02-14T03:35:12.193930Z",
     "start_time": "2025-02-14T03:35:12.004190Z"
    }
   },
   "source": [
    "import matplotlib.pyplot as plt\n",
    "plt.imshow(X.squeeze(), cmap='gray')"
   ],
   "outputs": [
    {
     "data": {
      "text/plain": [
       "<matplotlib.image.AxesImage at 0x1f32e909670>"
      ]
     },
     "execution_count": 105,
     "metadata": {},
     "output_type": "execute_result"
    },
    {
     "data": {
      "text/plain": [
       "<Figure size 640x480 with 1 Axes>"
      ],
      "image/png": "[encoded data removed]"
     },
     "metadata": {},
     "output_type": "display_data"
    }
   ],
   "execution_count": 105
  },
  {
   "cell_type": "code",
   "id": "795e7429bc34b97",
   "metadata": {
    "ExecuteTime": {
     "end_time": "2025-02-14T03:35:12.202395Z",
     "start_time": "2025-02-14T03:35:12.195179Z"
    }
   },
   "source": [
    "from torch.nn import functional as f\n",
    "# just adding a layer and then passing through conv layer and relu\n",
    "X = f.relu(conv1(X.view(1, 1, 28, 28)))\n",
    "# 1 image, 6 different filters of it, images are now 26x26\n",
    "X.shape"
   ],
   "outputs": [
    {
     "data": {
      "text/plain": [
       "torch.Size([1, 6, 26, 26])"
      ]
     },
     "execution_count": 106,
     "metadata": {},
     "output_type": "execute_result"
    }
   ],
   "execution_count": 106
  },
  {
   "cell_type": "code",
   "id": "f4e699e558981fcd",
   "metadata": {
    "ExecuteTime": {
     "end_time": "2025-02-14T03:35:12.212140Z",
     "start_time": "2025-02-14T03:35:12.202395Z"
    }
   },
   "source": [
    "X = f.max_pool2d(X, 2, 2) # kernel 2, stride 2\n",
    "X.shape"
   ],
   "outputs": [
    {
     "data": {
      "text/plain": [
       "torch.Size([1, 6, 13, 13])"
      ]
     },
     "execution_count": 107,
     "metadata": {},
     "output_type": "execute_result"
    }
   ],
   "execution_count": 107
  },
  {
   "cell_type": "code",
   "id": "f4b7a7ecf9e29a82",
   "metadata": {
    "ExecuteTime": {
     "end_time": "2025-02-14T03:35:12.217426Z",
     "start_time": "2025-02-14T03:35:12.212140Z"
    }
   },
   "source": [
    "X = f.relu(conv2(X))\n",
    "# we didn't add padding so we lose some pixels\n",
    "X.shape"
   ],
   "outputs": [
    {
     "data": {
      "text/plain": [
       "torch.Size([1, 16, 11, 11])"
      ]
     },
     "execution_count": 108,
     "metadata": {},
     "output_type": "execute_result"
    }
   ],
   "execution_count": 108
  },
  {
   "cell_type": "code",
   "id": "4cd6ddb30e9a289a",
   "metadata": {
    "ExecuteTime": {
     "end_time": "2025-02-14T03:35:12.222276Z",
     "start_time": "2025-02-14T03:35:12.217938Z"
    }
   },
   "source": [
    "X = f.max_pool2d(X, 2, 2)\n",
    "X.shape\n",
    "# convolution --> pooling --> convolution --> pooling\n",
    "# ((28-2)/2-2)/2 = 5.5 --> 5"
   ],
   "outputs": [
    {
     "data": {
      "text/plain": [
       "torch.Size([1, 16, 5, 5])"
      ]
     },
     "execution_count": 109,
     "metadata": {},
     "output_type": "execute_result"
    }
   ],
   "execution_count": 109
  },
  {
   "cell_type": "code",
   "id": "fc774739d4fe5265",
   "metadata": {
    "ExecuteTime": {
     "end_time": "2025-02-14T03:35:12.228601Z",
     "start_time": "2025-02-14T03:35:12.222276Z"
    }
   },
   "source": [
    "class ConvNetModel(nn.Module):\n",
    "    def __init__(self):\n",
    "        super().__init__()\n",
    "        # can't use sequential\n",
    "        self.conv1 = conv1\n",
    "        self.conv2 = conv2\n",
    "        # fully connected layers\n",
    "        self.fc1 = nn.Linear(5 * 5 * 16, 120)\n",
    "        self.fc2 = nn.Linear(120, 84)\n",
    "        self.fc3 = nn.Linear(84, 10)\n",
    "    def forward(self, x):\n",
    "        x = f.relu(self.conv1(x))\n",
    "        x = f.max_pool2d(x, 2, 2)\n",
    "        x = f.relu(self.conv2(x))\n",
    "        x = f.max_pool2d(x, 2, 2)\n",
    "        x = x.view(-1, 5 * 5 * 16) # -1 --> allows varying first dimension (batch size, number of images)\n",
    "        x = f.relu(self.fc1(x))\n",
    "        x = f.relu(self.fc2(x))\n",
    "        x = self.fc3(x)\n",
    "        # similar to sigmoid function\n",
    "        return f.log_softmax(x, 1)"
   ],
   "outputs": [],
   "execution_count": 110
  },
  {
   "cell_type": "code",
   "id": "aac3e8e1fa7ba666",
   "metadata": {
    "ExecuteTime": {
     "end_time": "2025-02-14T03:35:12.236359Z",
     "start_time": "2025-02-14T03:35:12.230124Z"
    }
   },
   "source": [
    "# torch.manual_seed(1)\n",
    "model = ConvNetModel()\n",
    "model"
   ],
   "outputs": [
    {
     "data": {
      "text/plain": [
       "ConvNetModel(\n",
       "  (conv1): Conv2d(1, 6, kernel_size=(3, 3), stride=(1, 1))\n",
       "  (conv2): Conv2d(6, 16, kernel_size=(3, 3), stride=(1, 1))\n",
       "  (fc1): Linear(in_features=400, out_features=120, bias=True)\n",
       "  (fc2): Linear(in_features=120, out_features=84, bias=True)\n",
       "  (fc3): Linear(in_features=84, out_features=10, bias=True)\n",
       ")"
      ]
     },
     "execution_count": 111,
     "metadata": {},
     "output_type": "execute_result"
    }
   ],
   "execution_count": 111
  },
  {
   "cell_type": "code",
   "id": "427b4610a2685c92",
   "metadata": {
    "ExecuteTime": {
     "end_time": "2025-02-14T03:38:07.261414Z",
     "start_time": "2025-02-14T03:35:12.236359Z"
    }
   },
   "source": [
    "lossFun = nn.CrossEntropyLoss()\n",
    "optimizer = torch.optim.Adam(model.parameters(), lr=0.001) # smaller lr means it takes longer\n",
    "epochs = 5\n",
    "trainLosses = []\n",
    "testLosses= []\n",
    "trainCorrect = []\n",
    "testCorrect = []\n",
    "loss = 0\n",
    "for epoch in range(epochs):\n",
    "    trainCorCount = 0\n",
    "    testCorCount = 0\n",
    "    \n",
    "    for batchCounter, (XTrain, yTrain) in enumerate(trainDL):\n",
    "        yPred = model(XTrain)\n",
    "        loss = lossFun(yPred, yTrain)\n",
    "        \n",
    "        pred = torch.max(yPred.data, 1)[1]\n",
    "\n",
    "        # noinspection PyUnresolvedReferences\n",
    "        trainCorCount += (pred == yTrain).sum()\n",
    "        \n",
    "        optimizer.zero_grad()\n",
    "        loss.backward()\n",
    "        optimizer.step()\n",
    "        \n",
    "        if batchCounter % 600 == 0:\n",
    "            print(f'{epoch=}, {batchCounter=}, {loss.item()=:.4f}')\n",
    "            \n",
    "    trainLosses.append(loss)\n",
    "    trainCorrect.append(trainCorCount)\n",
    "    \n",
    "    with torch.no_grad():\n",
    "        for batchCounter, (XTest, yTest) in enumerate(trainDL):\n",
    "            y = model(XTest)\n",
    "            pred = torch.max(y.data, 1)[1]\n",
    "            # noinspection PyUnresolvedReferences\n",
    "            testCorCount += (pred == y).sum()\n",
    "            \n",
    "    loss = lossFun(y, yTest)\n",
    "    \n",
    "    testLosses.append(loss)\n",
    "    testCorrect.append(testCorCount)\n",
    "    \n",
    "    print(f'\\n{epoch=}, {testCorCount=}\\n')"
   ],
   "outputs": [
    {
     "name": "stdout",
     "output_type": "stream",
     "text": [
      "epoch=0, batchCounter=0, loss.item()=2.3067\n",
      "epoch=0, batchCounter=600, loss.item()=0.1945\n",
      "epoch=0, batchCounter=1200, loss.item()=0.0427\n",
      "epoch=0, batchCounter=1800, loss.item()=0.1222\n",
      "epoch=0, batchCounter=2400, loss.item()=0.0744\n",
      "epoch=0, batchCounter=3000, loss.item()=0.2376\n",
      "epoch=0, batchCounter=3600, loss.item()=0.0042\n",
      "epoch=0, batchCounter=4200, loss.item()=0.0103\n",
      "epoch=0, batchCounter=4800, loss.item()=0.0032\n",
      "epoch=0, batchCounter=5400, loss.item()=0.0017\n",
      "\n",
      "epoch=0, testCorCount=tensor(0)\n",
      "\n",
      "epoch=1, batchCounter=0, loss.item()=0.0259\n",
      "epoch=1, batchCounter=600, loss.item()=0.0208\n",
      "epoch=1, batchCounter=1200, loss.item()=0.0040\n",
      "epoch=1, batchCounter=1800, loss.item()=0.0005\n",
      "epoch=1, batchCounter=2400, loss.item()=0.0172\n",
      "epoch=1, batchCounter=3000, loss.item()=0.0590\n",
      "epoch=1, batchCounter=3600, loss.item()=0.0098\n",
      "epoch=1, batchCounter=4200, loss.item()=0.0019\n",
      "epoch=1, batchCounter=4800, loss.item()=0.0098\n",
      "epoch=1, batchCounter=5400, loss.item()=0.0012\n",
      "\n",
      "epoch=1, testCorCount=tensor(55)\n",
      "\n",
      "epoch=2, batchCounter=0, loss.item()=0.0009\n",
      "epoch=2, batchCounter=600, loss.item()=0.4170\n",
      "epoch=2, batchCounter=1200, loss.item()=0.2175\n",
      "epoch=2, batchCounter=1800, loss.item()=0.0003\n",
      "epoch=2, batchCounter=2400, loss.item()=0.0001\n",
      "epoch=2, batchCounter=3000, loss.item()=0.2000\n",
      "epoch=2, batchCounter=3600, loss.item()=0.0646\n",
      "epoch=2, batchCounter=4200, loss.item()=0.0046\n",
      "epoch=2, batchCounter=4800, loss.item()=0.0616\n",
      "epoch=2, batchCounter=5400, loss.item()=0.0033\n",
      "\n",
      "epoch=2, testCorCount=tensor(371)\n",
      "\n",
      "epoch=3, batchCounter=0, loss.item()=0.0044\n",
      "epoch=3, batchCounter=600, loss.item()=0.0001\n",
      "epoch=3, batchCounter=1200, loss.item()=0.0009\n",
      "epoch=3, batchCounter=1800, loss.item()=0.0031\n",
      "epoch=3, batchCounter=2400, loss.item()=0.0008\n",
      "epoch=3, batchCounter=3000, loss.item()=0.0390\n",
      "epoch=3, batchCounter=3600, loss.item()=0.0096\n",
      "epoch=3, batchCounter=4200, loss.item()=0.0002\n",
      "epoch=3, batchCounter=4800, loss.item()=0.0002\n",
      "epoch=3, batchCounter=5400, loss.item()=0.0018\n",
      "\n",
      "epoch=3, testCorCount=tensor(472)\n",
      "\n",
      "epoch=4, batchCounter=0, loss.item()=0.0006\n",
      "epoch=4, batchCounter=600, loss.item()=0.0001\n",
      "epoch=4, batchCounter=1200, loss.item()=0.0019\n",
      "epoch=4, batchCounter=1800, loss.item()=0.0001\n",
      "epoch=4, batchCounter=2400, loss.item()=0.0030\n",
      "epoch=4, batchCounter=3000, loss.item()=0.0022\n",
      "epoch=4, batchCounter=3600, loss.item()=0.0018\n",
      "epoch=4, batchCounter=4200, loss.item()=0.0002\n",
      "epoch=4, batchCounter=4800, loss.item()=0.3645\n",
      "epoch=4, batchCounter=5400, loss.item()=0.0025\n",
      "\n",
      "epoch=4, testCorCount=tensor(641)\n",
      "\n"
     ]
    }
   ],
   "execution_count": 112
  }
 ],
 "metadata": {
  "kernelspec": {
   "display_name": "pytorch",
   "language": "python",
   "name": "python3"
  },
  "language_info": {
   "codemirror_mode": {
    "name": "ipython",
    "version": 3
   },
   "file_extension": ".py",
   "mimetype": "text/x-python",
   "name": "python",
   "nbconvert_exporter": "python",
   "pygments_lexer": "ipython3",
   "version": "3.12.7"
  }
 },
 "nbformat": 4,
 "nbformat_minor": 5
}
