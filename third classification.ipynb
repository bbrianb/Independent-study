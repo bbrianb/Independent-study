{
 "cells": [
  {
   "metadata": {
    "ExecuteTime": {
     "end_time": "2024-11-20T04:08:42.809315Z",
     "start_time": "2024-11-20T04:08:42.803426Z"
    }
   },
   "cell_type": "code",
   "source": [
    "import torch\n",
    "device = 'cuda' if torch.cuda.is_available() else 'cpu'\n",
    "device"
   ],
   "id": "28edc5f42785b9ac",
   "outputs": [
    {
     "data": {
      "text/plain": [
       "'cuda'"
      ]
     },
     "execution_count": 305,
     "metadata": {},
     "output_type": "execute_result"
    }
   ],
   "execution_count": 305
  },
  {
   "metadata": {
    "ExecuteTime": {
     "end_time": "2024-11-20T04:13:36.724789Z",
     "start_time": "2024-11-20T04:13:26.782666Z"
    }
   },
   "cell_type": "code",
   "source": [
    "import csv\n",
    "import torch\n",
    "fileName = 'data/loan_data.csv'\n",
    "\n",
    "with open(fileName) as csvFile:\n",
    "    reader = csv.reader(csvFile)\n",
    "    variables = next(reader)\n",
    "    columnInfo = [[] for _ in range(len(variables))]\n",
    "    data = torch.tensor([])\n",
    "    labels = torch.tensor([])\n",
    "    for row in reader:\n",
    "        temp = torch.zeros(1, len(variables) - 1)\n",
    "        for columnIndex, column in enumerate(row[:-1]):\n",
    "            try:\n",
    "                temp[0][columnIndex] = float(column)\n",
    "            except ValueError:\n",
    "                if column not in columnInfo[columnIndex]:\n",
    "                    columnInfo[columnIndex].append(column)\n",
    "                temp[0][columnIndex] = columnInfo[columnIndex].index(column)\n",
    "        data = torch.cat((data, temp))\n",
    "        labels = torch.cat((labels, torch.tensor([int(row[-1])])))\n",
    "labels = labels\n",
    "data.shape, labels.shape"
   ],
   "id": "initial_id",
   "outputs": [
    {
     "ename": "KeyboardInterrupt",
     "evalue": "",
     "output_type": "error",
     "traceback": [
      "\u001B[1;31m---------------------------------------------------------------------------\u001B[0m",
      "\u001B[1;31mKeyboardInterrupt\u001B[0m                         Traceback (most recent call last)",
      "Cell \u001B[1;32mIn[307], line 21\u001B[0m\n\u001B[0;32m     19\u001B[0m                 temp[\u001B[38;5;241m0\u001B[39m][columnIndex] \u001B[38;5;241m=\u001B[39m columnInfo[columnIndex]\u001B[38;5;241m.\u001B[39mindex(column)\n\u001B[0;32m     20\u001B[0m         data \u001B[38;5;241m=\u001B[39m torch\u001B[38;5;241m.\u001B[39mcat((data, temp))\n\u001B[1;32m---> 21\u001B[0m         labels \u001B[38;5;241m=\u001B[39m torch\u001B[38;5;241m.\u001B[39mcat((labels, torch\u001B[38;5;241m.\u001B[39mtensor([\u001B[38;5;28mint\u001B[39m(row[\u001B[38;5;241m-\u001B[39m\u001B[38;5;241m1\u001B[39m])])))\n\u001B[0;32m     22\u001B[0m labels \u001B[38;5;241m=\u001B[39m labels\n\u001B[0;32m     23\u001B[0m data\u001B[38;5;241m.\u001B[39mshape, labels\u001B[38;5;241m.\u001B[39mshape\n",
      "\u001B[1;31mKeyboardInterrupt\u001B[0m: "
     ]
    }
   ],
   "execution_count": 307
  },
  {
   "metadata": {},
   "cell_type": "code",
   "source": [
    "import pandas as pd\n",
    "df = pd.DataFrame(data)\n",
    "df = df.set_axis(variables[:-1], axis=1)\n",
    "df"
   ],
   "id": "6cb129a90e9b70b7",
   "execution_count": null,
   "outputs": []
  },
  {
   "metadata": {},
   "cell_type": "code",
   "source": [
    "pct = .8\n",
    "XSplit = int(pct*len(data))\n",
    "ySplit = int(pct * len(labels))\n",
    "XTrain, XTest = data[:XSplit].to(device), data[XSplit:].to(device)\n",
    "yTrain, yTest = labels[:ySplit].to(device), labels[ySplit:].to(device)\n",
    "XTrain.shape, XTest.shape, yTrain.shape, yTest.shape"
   ],
   "id": "948933f39b0ddeb8",
   "outputs": [],
   "execution_count": null
  },
  {
   "metadata": {},
   "cell_type": "code",
   "source": "XTrain[0:5], yTrain[0:5]",
   "id": "475ca1adbe7b3abb",
   "outputs": [],
   "execution_count": null
  },
  {
   "metadata": {},
   "cell_type": "code",
   "source": [
    "from torch import nn\n",
    "class Model0(nn.Module):\n",
    "    def __init__(self):\n",
    "        super().__init__()\n",
    "        self.layer1 = nn.Linear(13, 20)\n",
    "        self.layer2 = nn.Linear(20, 10)\n",
    "        self.layer3 = nn.Linear(10, 1)\n",
    "    def forward(self, x):\n",
    "        return self.layer3(self.layer2(self.layer1(x)))\n",
    "model = Model0().to(device)\n",
    "lossFun = nn.BCEWithLogitsLoss()\n",
    "optimizer = torch.optim.SGD(model.parameters())\n",
    "epochs = 11\n",
    "for epoch in range(epochs):\n",
    "    model.train()\n",
    "    yLogits = model(XTrain).squeeze()\n",
    "    yPred = torch.round(torch.sigmoid(yLogits))\n",
    "    trainLoss = lossFun(yLogits, yTrain)\n",
    "    # acc = len(torch.unique(yLogits[testLogits == yTest])) / len(yTrain)\n",
    "    optimizer.zero_grad()\n",
    "    trainLoss.backward()\n",
    "    optimizer.step()\n",
    "    model.eval()\n",
    "    with torch.inference_mode():\n",
    "        testLogits = model(XTest).squeeze()\n",
    "        testPred = torch.round(torch.sigmoid(testLogits))\n",
    "        testLoss = lossFun(testLogits, yTest)\n",
    "        # testAcc = len(torch.unique(testPred[testPred == yTest])) / len(yTest)\n",
    "    if epoch % 10 == 0:\n",
    "        print(f'Epoch: {epoch:02} | Train loss: {trainLoss:.4f} | Test loss: {testLoss:.4f}')"
   ],
   "id": "ae6a24b124633f77",
   "outputs": [],
   "execution_count": null
  },
  {
   "metadata": {},
   "cell_type": "code",
   "source": [
    "model.eval()\n",
    "with torch.inference_mode():\n",
    "    print(XTest[0], yTest[0], model(XTest[0]))"
   ],
   "id": "5e14692d9cabf785",
   "outputs": [],
   "execution_count": null
  },
  {
   "metadata": {},
   "cell_type": "code",
   "source": "yLogits",
   "id": "b07edc438e3a61d3",
   "outputs": [],
   "execution_count": null
  }
 ],
 "metadata": {
  "kernelspec": {
   "display_name": "Python 3",
   "language": "python",
   "name": "python3"
  },
  "language_info": {
   "codemirror_mode": {
    "name": "ipython",
    "version": 2
   },
   "file_extension": ".py",
   "mimetype": "text/x-python",
   "name": "python",
   "nbconvert_exporter": "python",
   "pygments_lexer": "ipython2",
   "version": "2.7.6"
  }
 },
 "nbformat": 4,
 "nbformat_minor": 5
}
