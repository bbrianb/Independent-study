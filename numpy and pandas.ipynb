{
 "cells": [
  {
   "cell_type": "markdown",
   "id": "1d26a23a690bd234",
   "metadata": {},
   "source": [
    "According to Python, \"NumPy is the fundamental package for scientific computing with Python.\"\n",
    "It's used for working with arrays. NumPy arrays can be processed faster than Python lists."
   ]
  },
  {
   "cell_type": "code",
   "execution_count": 7,
   "id": "34ba24bbbcfbb66a",
   "metadata": {
    "ExecuteTime": {
     "end_time": "2024-09-25T01:45:42.247867Z",
     "start_time": "2024-09-25T01:45:41.902044Z"
    }
   },
   "outputs": [
    {
     "data": {
      "text/plain": [
       "'1.26.3'"
      ]
     },
     "execution_count": 7,
     "metadata": {},
     "output_type": "execute_result"
    }
   ],
   "source": [
    "# the conventional way to install numpy\n",
    "import numpy as np\n",
    "np.__version__"
   ]
  },
  {
   "cell_type": "code",
   "execution_count": 8,
   "id": "d3c085ab4543127e",
   "metadata": {
    "ExecuteTime": {
     "end_time": "2024-09-25T01:45:42.257382Z",
     "start_time": "2024-09-25T01:45:42.248869Z"
    }
   },
   "outputs": [
    {
     "data": {
      "text/plain": [
       "array([1, 2, 3, 4])"
      ]
     },
     "execution_count": 8,
     "metadata": {},
     "output_type": "execute_result"
    }
   ],
   "source": [
    "arr = np.array([1, 2, 3, 4])\n",
    "arr"
   ]
  },
  {
   "cell_type": "markdown",
   "id": "1f62faff8158e751",
   "metadata": {},
   "source": [
    "Arrays have dimensions. 0-D arrays are just numbers. They're called scalars. 1-D arrays have 0-D arrays as all their elements. 2-D arrays have 1-D arrays as its elements. These can be used to represent matrices."
   ]
  },
  {
   "cell_type": "code",
   "execution_count": 9,
   "id": "c8cdb9daf4b784e8",
   "metadata": {
    "ExecuteTime": {
     "end_time": "2024-09-25T01:45:42.264227Z",
     "start_time": "2024-09-25T01:45:42.259381Z"
    }
   },
   "outputs": [
    {
     "data": {
      "text/plain": [
       "array([[1, 2, 3],\n",
       "       [4, 5, 6]])"
      ]
     },
     "execution_count": 9,
     "metadata": {},
     "output_type": "execute_result"
    }
   ],
   "source": [
    "twoD = np.array([[1, 2, 3], [4, 5, 6]])\n",
    "# if there's two sets of brackets, then there are two dimensions\n",
    "twoD"
   ]
  },
  {
   "cell_type": "code",
   "execution_count": 10,
   "id": "19926296a4155f61",
   "metadata": {
    "ExecuteTime": {
     "end_time": "2024-09-25T01:45:42.271132Z",
     "start_time": "2024-09-25T01:45:42.265229Z"
    }
   },
   "outputs": [
    {
     "data": {
      "text/plain": [
       "(1, 2)"
      ]
     },
     "execution_count": 10,
     "metadata": {},
     "output_type": "execute_result"
    }
   ],
   "source": [
    "arr.ndim, twoD.ndim"
   ]
  },
  {
   "cell_type": "code",
   "execution_count": 11,
   "id": "f428125e32843477",
   "metadata": {
    "ExecuteTime": {
     "end_time": "2024-09-25T01:45:42.277491Z",
     "start_time": "2024-09-25T01:45:42.272350Z"
    }
   },
   "outputs": [
    {
     "data": {
      "text/plain": [
       "(1, 2)"
      ]
     },
     "execution_count": 11,
     "metadata": {},
     "output_type": "execute_result"
    }
   ],
   "source": [
    "arr[0], arr[1]"
   ]
  },
  {
   "cell_type": "code",
   "execution_count": 12,
   "id": "e5e23db80660a8a2",
   "metadata": {
    "ExecuteTime": {
     "end_time": "2024-09-25T01:45:42.282137Z",
     "start_time": "2024-09-25T01:45:42.278492Z"
    }
   },
   "outputs": [
    {
     "data": {
      "text/plain": [
       "(array([1, 2, 3]), 1)"
      ]
     },
     "execution_count": 12,
     "metadata": {},
     "output_type": "execute_result"
    }
   ],
   "source": [
    "twoD[0], twoD[0, 0]"
   ]
  },
  {
   "cell_type": "code",
   "execution_count": 13,
   "id": "9100666ca180e8ce",
   "metadata": {
    "ExecuteTime": {
     "end_time": "2024-09-25T01:45:42.288048Z",
     "start_time": "2024-09-25T01:45:42.284138Z"
    }
   },
   "outputs": [
    {
     "data": {
      "text/plain": [
       "3"
      ]
     },
     "execution_count": 13,
     "metadata": {},
     "output_type": "execute_result"
    }
   ],
   "source": [
    "arr2 = np.array([[[1, 2, 3], [4, 5, 6]], [[7, 8, 9], [10, 11, 12]]])\n",
    "arr2.ndim"
   ]
  },
  {
   "cell_type": "code",
   "execution_count": 14,
   "id": "5a7961e4a1cf6b77",
   "metadata": {
    "ExecuteTime": {
     "end_time": "2024-09-25T01:45:42.293420Z",
     "start_time": "2024-09-25T01:45:42.289048Z"
    }
   },
   "outputs": [
    {
     "data": {
      "text/plain": [
       "(array([[[ 1,  2,  3],\n",
       "         [ 4,  5,  6]],\n",
       " \n",
       "        [[ 7,  8,  9],\n",
       "         [10, 11, 12]]]),\n",
       " array([[ 7,  8,  9],\n",
       "        [10, 11, 12]]),\n",
       " array([10, 11, 12]),\n",
       " 11)"
      ]
     },
     "execution_count": 14,
     "metadata": {},
     "output_type": "execute_result"
    }
   ],
   "source": [
    "arr2, arr2[1], arr2[1, 1], arr2[1, 1, 1]"
   ]
  },
  {
   "cell_type": "code",
   "execution_count": 15,
   "id": "fed74a50253428d5",
   "metadata": {
    "ExecuteTime": {
     "end_time": "2024-09-25T01:45:42.300325Z",
     "start_time": "2024-09-25T01:45:42.295418Z"
    }
   },
   "outputs": [
    {
     "data": {
      "text/plain": [
       "array([3, 4, 5])"
      ]
     },
     "execution_count": 15,
     "metadata": {},
     "output_type": "execute_result"
    }
   ],
   "source": [
    "arr = np.array([1, 2, 3, 4, 5, 6, 7])\n",
    "# slicing\n",
    "arr[2:5]"
   ]
  },
  {
   "cell_type": "code",
   "execution_count": 16,
   "id": "f4fd158d42689c74",
   "metadata": {
    "ExecuteTime": {
     "end_time": "2024-09-25T01:45:42.306490Z",
     "start_time": "2024-09-25T01:45:42.301478Z"
    }
   },
   "outputs": [
    {
     "data": {
      "text/plain": [
       "array([2, 4, 6])"
      ]
     },
     "execution_count": 16,
     "metadata": {},
     "output_type": "execute_result"
    }
   ],
   "source": [
    "arr[1:6:2]"
   ]
  },
  {
   "cell_type": "code",
   "execution_count": 17,
   "id": "53b81f2fbfd788f1",
   "metadata": {
    "ExecuteTime": {
     "end_time": "2024-09-25T01:45:42.313028Z",
     "start_time": "2024-09-25T01:45:42.307491Z"
    }
   },
   "outputs": [
    {
     "data": {
      "text/plain": [
       "array([7, 9])"
      ]
     },
     "execution_count": 17,
     "metadata": {},
     "output_type": "execute_result"
    }
   ],
   "source": [
    "arr = np.array([[1, 2, 3, 4, 5], [6, 7, 8, 9, 10]])\n",
    "arr[1, 1:4:2]"
   ]
  },
  {
   "cell_type": "code",
   "execution_count": 18,
   "id": "2cdd146b26e9ee49",
   "metadata": {
    "ExecuteTime": {
     "end_time": "2024-09-25T01:45:42.318235Z",
     "start_time": "2024-09-25T01:45:42.314031Z"
    }
   },
   "outputs": [
    {
     "data": {
      "text/plain": [
       "array([4, 9])"
      ]
     },
     "execution_count": 18,
     "metadata": {},
     "output_type": "execute_result"
    }
   ],
   "source": [
    "arr[0:2, 3]"
   ]
  },
  {
   "cell_type": "code",
   "execution_count": 19,
   "id": "7a67c49167ffb003",
   "metadata": {
    "ExecuteTime": {
     "end_time": "2024-09-25T01:45:42.323555Z",
     "start_time": "2024-09-25T01:45:42.319235Z"
    }
   },
   "outputs": [
    {
     "data": {
      "text/plain": [
       "array([[2, 4],\n",
       "       [7, 9]])"
      ]
     },
     "execution_count": 19,
     "metadata": {},
     "output_type": "execute_result"
    }
   ],
   "source": [
    "arr[0:2, 1:4:2]"
   ]
  },
  {
   "cell_type": "markdown",
   "id": "a0f3d43fdf32e76d",
   "metadata": {},
   "source": [
    "NumPy has different data types.\n",
    "i - integer\n",
    "b - boolean\n",
    "u - unsigned integer\n",
    "f - float\n",
    "c - complex float\n",
    "m - timedelta\n",
    "M - datetime\n",
    "O - object\n",
    "S - string\n",
    "U - unicode string\n",
    "V - fixed chunk of memory for other type ( void )"
   ]
  },
  {
   "cell_type": "code",
   "execution_count": 20,
   "id": "4171271193406c1a",
   "metadata": {
    "ExecuteTime": {
     "end_time": "2024-09-25T01:45:42.328510Z",
     "start_time": "2024-09-25T01:45:42.324556Z"
    }
   },
   "outputs": [
    {
     "data": {
      "text/plain": [
       "(array([1, 2, 3]), dtype('int32'))"
      ]
     },
     "execution_count": 20,
     "metadata": {},
     "output_type": "execute_result"
    }
   ],
   "source": [
    "arr = np.array([1, 2, 3])\n",
    "arr, arr.dtype"
   ]
  },
  {
   "cell_type": "code",
   "execution_count": 21,
   "id": "4d9ca509456c580d",
   "metadata": {
    "ExecuteTime": {
     "end_time": "2024-09-25T01:45:42.335063Z",
     "start_time": "2024-09-25T01:45:42.329512Z"
    }
   },
   "outputs": [
    {
     "data": {
      "text/plain": [
       "(array([1., 2., 3.]), dtype('float64'))"
      ]
     },
     "execution_count": 21,
     "metadata": {},
     "output_type": "execute_result"
    }
   ],
   "source": [
    "arr = np.array([1, 2, 3], dtype='float')\n",
    "arr, arr.dtype"
   ]
  },
  {
   "cell_type": "code",
   "execution_count": 22,
   "id": "5eb07a412cc12abf",
   "metadata": {
    "ExecuteTime": {
     "end_time": "2024-09-25T01:45:42.340163Z",
     "start_time": "2024-09-25T01:45:42.336064Z"
    }
   },
   "outputs": [
    {
     "data": {
      "text/plain": [
       "(array([1, 2, 3]), dtype('float64'))"
      ]
     },
     "execution_count": 22,
     "metadata": {},
     "output_type": "execute_result"
    }
   ],
   "source": [
    "arr2 = arr.astype('int')\n",
    "arr2, arr.dtype"
   ]
  },
  {
   "cell_type": "markdown",
   "id": "c877635e2a37eeab",
   "metadata": {},
   "source": [
    "Copies do not affect original data. Views do affect original data and vice versa."
   ]
  },
  {
   "cell_type": "markdown",
   "id": "d3d45f1494fc9e86",
   "metadata": {},
   "source": []
  },
  {
   "cell_type": "code",
   "execution_count": 23,
   "id": "c6dd5deb82c01edf",
   "metadata": {
    "ExecuteTime": {
     "end_time": "2024-09-25T01:45:42.347202Z",
     "start_time": "2024-09-25T01:45:42.341163Z"
    }
   },
   "outputs": [
    {
     "data": {
      "text/plain": [
       "(array([1, 2, 3]), array([7, 2, 3]))"
      ]
     },
     "execution_count": 23,
     "metadata": {},
     "output_type": "execute_result"
    }
   ],
   "source": [
    "arr = np.array([1, 2, 3])\n",
    "arr2 = arr.copy()\n",
    "arr2[0] = 7\n",
    "arr, arr2"
   ]
  },
  {
   "cell_type": "code",
   "execution_count": 24,
   "id": "f5ff4d63d234d430",
   "metadata": {
    "ExecuteTime": {
     "end_time": "2024-09-25T01:45:42.354014Z",
     "start_time": "2024-09-25T01:45:42.348205Z"
    }
   },
   "outputs": [
    {
     "data": {
      "text/plain": [
       "(array([7, 0, 3]), array([7, 0, 3]))"
      ]
     },
     "execution_count": 24,
     "metadata": {},
     "output_type": "execute_result"
    }
   ],
   "source": [
    "arr3 = arr2.view()\n",
    "arr3[1] = 0\n",
    "arr2, arr3"
   ]
  },
  {
   "cell_type": "code",
   "execution_count": 25,
   "id": "b126eb51afd6f3c6",
   "metadata": {
    "ExecuteTime": {
     "end_time": "2024-09-25T01:45:42.412765Z",
     "start_time": "2024-09-25T01:45:42.406653Z"
    }
   },
   "outputs": [
    {
     "data": {
      "text/plain": [
       "(None, None, array([7, 0, 3]))"
      ]
     },
     "execution_count": 25,
     "metadata": {},
     "output_type": "execute_result"
    }
   ],
   "source": [
    "# if the base attribute of an array is None, then the array is a copy\n",
    "arr.base, arr2.base, arr3.base"
   ]
  },
  {
   "cell_type": "code",
   "execution_count": 26,
   "id": "75a725f7a293bd4",
   "metadata": {
    "ExecuteTime": {
     "end_time": "2024-09-25T01:45:42.582698Z",
     "start_time": "2024-09-25T01:45:42.577634Z"
    }
   },
   "outputs": [
    {
     "data": {
      "text/plain": [
       "((3,), (2, 3))"
      ]
     },
     "execution_count": 26,
     "metadata": {},
     "output_type": "execute_result"
    }
   ],
   "source": [
    "arr = np.array([1,2,3])\n",
    "arr2 = np.array([[1,2,3], [4, 5, 6]])\n",
    "arr.shape, arr2.shape"
   ]
  },
  {
   "cell_type": "code",
   "execution_count": 27,
   "id": "558169b967a1bab5",
   "metadata": {
    "ExecuteTime": {
     "end_time": "2024-09-25T01:45:42.689325Z",
     "start_time": "2024-09-25T01:45:42.684733Z"
    }
   },
   "outputs": [
    {
     "data": {
      "text/plain": [
       "(3, (1, 1, 4))"
      ]
     },
     "execution_count": 27,
     "metadata": {},
     "output_type": "execute_result"
    }
   ],
   "source": [
    "arr = np.array([1, 2, 3, 4], ndmin=3)\n",
    "arr.ndim, arr.shape"
   ]
  },
  {
   "cell_type": "code",
   "execution_count": 28,
   "id": "8db1124130853a5",
   "metadata": {
    "ExecuteTime": {
     "end_time": "2024-09-25T01:45:42.780805Z",
     "start_time": "2024-09-25T01:45:42.776551Z"
    }
   },
   "outputs": [
    {
     "name": "stdout",
     "output_type": "stream",
     "text": [
      "(array([ 1,  2,  3,  4,  5,  6,  7,  8,  9, 10, 11, 12]), (12,), array([[ 1,  2,  3],\n",
      "       [ 4,  5,  6],\n",
      "       [ 7,  8,  9],\n",
      "       [10, 11, 12]]), (4, 3))\n"
     ]
    }
   ],
   "source": [
    "arr = np.array([1, 2, 3, 4, 5, 6, 7, 8, 9, 10, 11, 12])\n",
    "arr2 = arr.reshape(4, 3)\n",
    "print((arr, arr.shape, arr2, arr2.shape))"
   ]
  },
  {
   "cell_type": "code",
   "execution_count": 29,
   "id": "ec57f5698ee2873f",
   "metadata": {
    "ExecuteTime": {
     "end_time": "2024-09-25T01:45:42.826961Z",
     "start_time": "2024-09-25T01:45:42.822734Z"
    }
   },
   "outputs": [
    {
     "data": {
      "text/plain": [
       "array([1, 2, 3, 4])"
      ]
     },
     "execution_count": 29,
     "metadata": {},
     "output_type": "execute_result"
    }
   ],
   "source": [
    "arr = np.array([1, 2, 3, 4])\n",
    "arr2 = arr.reshape(2, 2)\n",
    "# arr2 is a view\n",
    "arr2.base"
   ]
  },
  {
   "cell_type": "code",
   "execution_count": 30,
   "id": "810b8196063a1a49",
   "metadata": {
    "ExecuteTime": {
     "end_time": "2024-09-25T01:45:42.864977Z",
     "start_time": "2024-09-25T01:45:42.860395Z"
    }
   },
   "outputs": [
    {
     "data": {
      "text/plain": [
       "array([[[1, 2],\n",
       "        [3, 4]],\n",
       "\n",
       "       [[5, 6],\n",
       "        [7, 8]]])"
      ]
     },
     "execution_count": 30,
     "metadata": {},
     "output_type": "execute_result"
    }
   ],
   "source": [
    "arr = np.array([1, 2, 3, 4, 5, 6, 7, 8])\n",
    "# NumPy will figure out what the missing dimension needs to be\n",
    "arr2 = arr.reshape(2, 2, -1)\n",
    "arr2"
   ]
  },
  {
   "cell_type": "code",
   "execution_count": 31,
   "id": "b300d2e0a5ef019",
   "metadata": {
    "ExecuteTime": {
     "end_time": "2024-09-25T01:45:42.919911Z",
     "start_time": "2024-09-25T01:45:42.915146Z"
    }
   },
   "outputs": [
    {
     "data": {
      "text/plain": [
       "array([1, 2, 3, 4, 5, 6, 7, 8])"
      ]
     },
     "execution_count": 31,
     "metadata": {},
     "output_type": "execute_result"
    }
   ],
   "source": [
    "arr2.reshape(-1)"
   ]
  },
  {
   "cell_type": "code",
   "execution_count": 32,
   "id": "ced188f1b4374c2f",
   "metadata": {
    "ExecuteTime": {
     "end_time": "2024-09-25T01:45:42.979878Z",
     "start_time": "2024-09-25T01:45:42.975722Z"
    }
   },
   "outputs": [
    {
     "name": "stdout",
     "output_type": "stream",
     "text": [
      "1\n",
      "2\n",
      "3\n",
      "4\n",
      "5\n",
      "6\n",
      "7\n",
      "8\n",
      "9\n",
      "10\n",
      "11\n",
      "12\n"
     ]
    }
   ],
   "source": [
    "arr = np.array([[[1, 2, 3], [4, 5, 6]], [[7, 8, 9], [10, 11, 12]]])\n",
    "for i in np.nditer(arr):\n",
    "    print(i)"
   ]
  },
  {
   "cell_type": "code",
   "execution_count": 33,
   "id": "b2460ef294cf97cc",
   "metadata": {
    "ExecuteTime": {
     "end_time": "2024-09-25T01:45:43.073942Z",
     "start_time": "2024-09-25T01:45:43.069127Z"
    }
   },
   "outputs": [
    {
     "name": "stdout",
     "output_type": "stream",
     "text": [
      "1.0\n",
      "2.0\n",
      "3.0\n",
      "4.0\n",
      "5.0\n",
      "6.0\n",
      "7.0\n",
      "8.0\n",
      "9.0\n",
      "10.0\n",
      "11.0\n",
      "12.0\n"
     ]
    }
   ],
   "source": [
    "# we have to buffer so numpy has time to change from int to float\n",
    "for i in np.nditer(arr, flags=['buffered'], op_dtypes='float'):\n",
    "    print(i)"
   ]
  },
  {
   "cell_type": "code",
   "execution_count": 34,
   "id": "d73095188cf25054",
   "metadata": {
    "ExecuteTime": {
     "end_time": "2024-09-25T01:45:43.136752Z",
     "start_time": "2024-09-25T01:45:43.132870Z"
    }
   },
   "outputs": [
    {
     "name": "stdout",
     "output_type": "stream",
     "text": [
      "[2 5]\n",
      "[ 8 11]\n"
     ]
    }
   ],
   "source": [
    "for i in arr[:, :, 1]:\n",
    "    print(i)"
   ]
  },
  {
   "cell_type": "code",
   "execution_count": 35,
   "id": "644cff02c58e0167",
   "metadata": {
    "ExecuteTime": {
     "end_time": "2024-09-25T01:54:01.777917Z",
     "start_time": "2024-09-25T01:54:01.774333Z"
    }
   },
   "outputs": [
    {
     "name": "stdout",
     "output_type": "stream",
     "text": [
      "(0, 0) 1\n",
      "(0, 1) 2\n",
      "(0, 2) 3\n",
      "(1, 0) 4\n",
      "(1, 1) 5\n",
      "(1, 2) 6\n"
     ]
    }
   ],
   "source": [
    "arr = np.array([[1, 2, 3], [4, 5, 6]])\n",
    "for i, x in np.ndenumerate(arr):\n",
    "    print(i, x)"
   ]
  },
  {
   "cell_type": "code",
   "execution_count": 36,
   "id": "794f7a6925d6e5f7",
   "metadata": {
    "ExecuteTime": {
     "end_time": "2024-09-25T01:54:04.945414Z",
     "start_time": "2024-09-25T01:54:04.939081Z"
    }
   },
   "outputs": [
    {
     "data": {
      "text/plain": [
       "array([1, 2, 3, 4, 5, 6])"
      ]
     },
     "execution_count": 36,
     "metadata": {},
     "output_type": "execute_result"
    }
   ],
   "source": [
    "arr1 = np.array([1, 2, 3])\n",
    "arr2 = np.array([4, 5, 6])\n",
    "np.concatenate((arr1, arr2))  # arrays are stacked next to each other"
   ]
  },
  {
   "cell_type": "code",
   "execution_count": 37,
   "id": "d6bc30cbe0e65140",
   "metadata": {
    "ExecuteTime": {
     "end_time": "2024-09-25T01:56:00.128354Z",
     "start_time": "2024-09-25T01:56:00.123464Z"
    }
   },
   "outputs": [
    {
     "data": {
      "text/plain": [
       "array([[1, 2, 3],\n",
       "       [4, 5, 6]])"
      ]
     },
     "execution_count": 37,
     "metadata": {},
     "output_type": "execute_result"
    }
   ],
   "source": [
    "# stack puts the second array on a new axis\n",
    "# there are lots of ways to stack\n",
    "np.stack((arr1, arr2))"
   ]
  },
  {
   "cell_type": "code",
   "execution_count": 38,
   "id": "3fb2e31175f3ca20",
   "metadata": {
    "ExecuteTime": {
     "end_time": "2024-09-25T02:01:25.787563Z",
     "start_time": "2024-09-25T02:01:25.782574Z"
    }
   },
   "outputs": [
    {
     "data": {
      "text/plain": [
       "array([[1, 4],\n",
       "       [2, 5],\n",
       "       [3, 6]])"
      ]
     },
     "execution_count": 38,
     "metadata": {},
     "output_type": "execute_result"
    }
   ],
   "source": [
    "# by default axis=0\n",
    "# axis 1 means the inputs are stacked column-wise --> same as dstack\n",
    "# axis 0 means the inputs are stacked row-wise --> same as vstack\n",
    "np.stack((arr1, arr2), 1)"
   ]
  },
  {
   "cell_type": "code",
   "execution_count": 39,
   "id": "67a754537c417849",
   "metadata": {
    "ExecuteTime": {
     "end_time": "2024-09-25T01:58:42.563489Z",
     "start_time": "2024-09-25T01:58:42.557787Z"
    }
   },
   "outputs": [
    {
     "data": {
      "text/plain": [
       "array([1, 2, 3, 4, 5, 6])"
      ]
     },
     "execution_count": 39,
     "metadata": {},
     "output_type": "execute_result"
    }
   ],
   "source": [
    "np.hstack((arr1, arr2))  # arrays are stacked next to each other horizontally"
   ]
  },
  {
   "cell_type": "code",
   "execution_count": 40,
   "id": "4ed64e4d0803a617",
   "metadata": {
    "ExecuteTime": {
     "end_time": "2024-09-25T01:59:24.263971Z",
     "start_time": "2024-09-25T01:59:24.259687Z"
    }
   },
   "outputs": [
    {
     "data": {
      "text/plain": [
       "array([[1, 2, 3],\n",
       "       [4, 5, 6]])"
      ]
     },
     "execution_count": 40,
     "metadata": {},
     "output_type": "execute_result"
    }
   ],
   "source": [
    "np.vstack((arr1, arr2))  # arrays are stacked on top of each other vertically"
   ]
  },
  {
   "cell_type": "code",
   "execution_count": 41,
   "id": "4b25c6142c9dd754",
   "metadata": {
    "ExecuteTime": {
     "end_time": "2024-09-25T02:01:28.436579Z",
     "start_time": "2024-09-25T02:01:28.430986Z"
    }
   },
   "outputs": [
    {
     "data": {
      "text/plain": [
       "array([[[1, 4],\n",
       "        [2, 5],\n",
       "        [3, 6]]])"
      ]
     },
     "execution_count": 41,
     "metadata": {},
     "output_type": "execute_result"
    }
   ],
   "source": [
    "np.dstack((arr1, arr2))  # arrays are stacked next to each other"
   ]
  },
  {
   "cell_type": "code",
   "execution_count": 42,
   "id": "66944eb6",
   "metadata": {},
   "outputs": [
    {
     "data": {
      "text/plain": [
       "[array([1, 2]), array([3, 4]), array([5])]"
      ]
     },
     "execution_count": 42,
     "metadata": {},
     "output_type": "execute_result"
    }
   ],
   "source": [
    "arr = np.array([1, 2, 3, 4, 5])\n",
    "np.array_split(arr, 3)"
   ]
  },
  {
   "cell_type": "code",
   "execution_count": 43,
   "id": "0b127d0b",
   "metadata": {},
   "outputs": [
    {
     "data": {
      "text/plain": [
       "(array([0, 3, 5, 7, 8], dtype=int64),)"
      ]
     },
     "execution_count": 43,
     "metadata": {},
     "output_type": "execute_result"
    }
   ],
   "source": [
    "arr = np.array([0, 1, 1, 0, 1, 0, 1, 0, 0])\n",
    "np.where(arr == 0)"
   ]
  },
  {
   "cell_type": "code",
   "execution_count": 44,
   "id": "0ba4988e",
   "metadata": {},
   "outputs": [
    {
     "data": {
      "text/plain": [
       "(array([1, 3, 5, 7, 9], dtype=int64),)"
      ]
     },
     "execution_count": 44,
     "metadata": {},
     "output_type": "execute_result"
    }
   ],
   "source": [
    "arr = np.array([1, 2, 3, 4, 5, 6, 7, 8, 9, 10])\n",
    "np.where(arr%2 == 0)"
   ]
  },
  {
   "cell_type": "code",
   "execution_count": 45,
   "id": "dd74c8ef",
   "metadata": {},
   "outputs": [
    {
     "data": {
      "text/plain": [
       "1"
      ]
     },
     "execution_count": 45,
     "metadata": {},
     "output_type": "execute_result"
    }
   ],
   "source": [
    "arr = np.array([5, 6, 7, 8])\n",
    "# preforms binary search\n",
    "# assumes the array is sorted\n",
    "# by default searches from the left\n",
    "np.searchsorted(arr, 5, 'right')"
   ]
  },
  {
   "cell_type": "code",
   "execution_count": 46,
   "id": "e0a95c96",
   "metadata": {},
   "outputs": [
    {
     "data": {
      "text/plain": [
       "array([1, 3], dtype=int64)"
      ]
     },
     "execution_count": 46,
     "metadata": {},
     "output_type": "execute_result"
    }
   ],
   "source": [
    "arr = np.array([1, 3, 5, 7])\n",
    "# if the numbers aren't in the array, it returns where they would be inserted to maintain the order\n",
    "np.searchsorted(arr, (2, 6))"
   ]
  },
  {
   "cell_type": "code",
   "execution_count": 47,
   "id": "7dbe3908",
   "metadata": {},
   "outputs": [
    {
     "data": {
      "text/plain": [
       "array([0, 1, 2, 3])"
      ]
     },
     "execution_count": 47,
     "metadata": {},
     "output_type": "execute_result"
    }
   ],
   "source": [
    "arr = np.array([3, 2, 0, 1])\n",
    "np.sort(arr)"
   ]
  },
  {
   "cell_type": "code",
   "execution_count": 48,
   "id": "69ea9c6a",
   "metadata": {},
   "outputs": [
    {
     "data": {
      "text/plain": [
       "array([[0, 1, 2],\n",
       "       [3, 4, 5]])"
      ]
     },
     "execution_count": 48,
     "metadata": {},
     "output_type": "execute_result"
    }
   ],
   "source": [
    "arr = np.array([[0, 2, 1], [5, 4, 3]])\n",
    "np.sort(arr)"
   ]
  },
  {
   "cell_type": "code",
   "execution_count": 49,
   "id": "4ebf8ff1",
   "metadata": {},
   "outputs": [
    {
     "data": {
      "text/plain": [
       "array([1, 2, 4])"
      ]
     },
     "execution_count": 49,
     "metadata": {},
     "output_type": "execute_result"
    }
   ],
   "source": [
    "arr = np.array([1, 2, 3, 4])\n",
    "boolArr = np.array([True, True, False, True])\n",
    "arr[boolArr]"
   ]
  },
  {
   "cell_type": "code",
   "execution_count": 50,
   "id": "3bdac666",
   "metadata": {},
   "outputs": [
    {
     "data": {
      "text/plain": [
       "(array([73, 57, 80, 95, 30]),\n",
       " [True, True, True, True, False],\n",
       " array([73, 57, 80, 95]))"
      ]
     },
     "execution_count": 50,
     "metadata": {},
     "output_type": "execute_result"
    }
   ],
   "source": [
    "from numpy import random\n",
    "arr = random.randint(100, size=5)\n",
    "filter = []\n",
    "for i in arr:\n",
    "    filter.append(i>50)\n",
    "arr, filter, arr[filter]"
   ]
  },
  {
   "cell_type": "code",
   "execution_count": 51,
   "id": "14bf717e",
   "metadata": {},
   "outputs": [
    {
     "data": {
      "text/plain": [
       "(array([89, 33, 88,  9]), array([ True, False,  True, False]), array([89, 88]))"
      ]
     },
     "execution_count": 51,
     "metadata": {},
     "output_type": "execute_result"
    }
   ],
   "source": [
    "arr = random.randint(100, size=4)\n",
    "filter = arr > 49\n",
    "arr, filter, arr[filter]"
   ]
  },
  {
   "cell_type": "code",
   "execution_count": 52,
   "id": "305d00ba",
   "metadata": {},
   "outputs": [
    {
     "data": {
      "text/plain": [
       "tensor([1, 2, 3], dtype=torch.int32)"
      ]
     },
     "execution_count": 52,
     "metadata": {},
     "output_type": "execute_result"
    }
   ],
   "source": [
    "import torch\n",
    "arr = np.array([1, 2, 3])\n",
    "torch.from_numpy(arr)"
   ]
  },
  {
   "cell_type": "code",
   "execution_count": 53,
   "id": "e1d1bff1",
   "metadata": {},
   "outputs": [
    {
     "data": {
      "text/plain": [
       "array([1, 2, 3], dtype=int64)"
      ]
     },
     "execution_count": 53,
     "metadata": {},
     "output_type": "execute_result"
    }
   ],
   "source": [
    "t = torch.tensor([1, 2, 3])\n",
    "torch.Tensor.numpy(t)"
   ]
  },
  {
   "cell_type": "markdown",
   "id": "8ad00ced",
   "metadata": {},
   "source": [
    "\"pandas is a fast, powerful, flexible and easy to use open source data analysis and manipulation tool,\n",
    "built on top of the Python programming language.\"\n",
    "Pandas is a python module that is easily installed from pip. It works will with numpy and is used for data analysis."
   ]
  },
  {
   "cell_type": "code",
   "execution_count": 58,
   "id": "54bd5b1f",
   "metadata": {},
   "outputs": [
    {
     "data": {
      "text/plain": [
       "0    1\n",
       "1    2\n",
       "2    3\n",
       "dtype: int32"
      ]
     },
     "execution_count": 58,
     "metadata": {},
     "output_type": "execute_result"
    }
   ],
   "source": [
    "import pandas as pd\n",
    "a = np.array([1, 2, 3])\n",
    "pd.Series(a)"
   ]
  },
  {
   "cell_type": "code",
   "execution_count": 59,
   "id": "6fdd90c7",
   "metadata": {},
   "outputs": [
    {
     "data": {
      "text/plain": [
       "(x    1\n",
       " y    2\n",
       " z    3\n",
       " dtype: int32,\n",
       " 1)"
      ]
     },
     "execution_count": 59,
     "metadata": {},
     "output_type": "execute_result"
    }
   ],
   "source": [
    "# by default the index is 0, 1, 2, etc.\n",
    "var = pd.Series(a, ['x', 'y', 'z'])\n",
    "var, var['x']"
   ]
  },
  {
   "cell_type": "code",
   "execution_count": 63,
   "id": "e9f1d67e",
   "metadata": {},
   "outputs": [
    {
     "data": {
      "text/plain": [
       "num1      9\n",
       "num2     42\n",
       "num3    162\n",
       "dtype: int64"
      ]
     },
     "execution_count": 63,
     "metadata": {},
     "output_type": "execute_result"
    }
   ],
   "source": [
    "numbers = {'num1': 9, 'num2': 42, 'num3': 162}\n",
    "pd.Series(numbers)"
   ]
  },
  {
   "cell_type": "code",
   "execution_count": 64,
   "id": "49becb45",
   "metadata": {},
   "outputs": [
    {
     "data": {
      "text/plain": [
       "num1      9\n",
       "num3    162\n",
       "dtype: int64"
      ]
     },
     "execution_count": 64,
     "metadata": {},
     "output_type": "execute_result"
    }
   ],
   "source": [
    "pd.Series(numbers, ['num1', 'num3'])"
   ]
  },
  {
   "cell_type": "code",
   "execution_count": 70,
   "id": "5bca2d2f",
   "metadata": {},
   "outputs": [
    {
     "data": {
      "text/html": [
       "<div>\n",
       "<style scoped>\n",
       "    .dataframe tbody tr th:only-of-type {\n",
       "        vertical-align: middle;\n",
       "    }\n",
       "\n",
       "    .dataframe tbody tr th {\n",
       "        vertical-align: top;\n",
       "    }\n",
       "\n",
       "    .dataframe thead th {\n",
       "        text-align: right;\n",
       "    }\n",
       "</style>\n",
       "<table border=\"1\" class=\"dataframe\">\n",
       "  <thead>\n",
       "    <tr style=\"text-align: right;\">\n",
       "      <th></th>\n",
       "      <th>x</th>\n",
       "      <th>y</th>\n",
       "    </tr>\n",
       "  </thead>\n",
       "  <tbody>\n",
       "    <tr>\n",
       "      <th>0</th>\n",
       "      <td>1</td>\n",
       "      <td>1</td>\n",
       "    </tr>\n",
       "    <tr>\n",
       "      <th>1</th>\n",
       "      <td>2</td>\n",
       "      <td>4</td>\n",
       "    </tr>\n",
       "    <tr>\n",
       "      <th>2</th>\n",
       "      <td>3</td>\n",
       "      <td>9</td>\n",
       "    </tr>\n",
       "  </tbody>\n",
       "</table>\n",
       "</div>"
      ],
      "text/plain": [
       "   x  y\n",
       "0  1  1\n",
       "1  2  4\n",
       "2  3  9"
      ]
     },
     "execution_count": 70,
     "metadata": {},
     "output_type": "execute_result"
    }
   ],
   "source": [
    "data = {'x': [1, 2, 3],\n",
    "        'y': [1, 4, 9]}\n",
    "frame = pd.DataFrame(data)\n",
    "# loc means locate\n",
    "frame"
   ]
  },
  {
   "cell_type": "code",
   "execution_count": 71,
   "id": "1c7b7a83",
   "metadata": {},
   "outputs": [
    {
     "data": {
      "text/plain": [
       "x    2\n",
       "y    4\n",
       "Name: 1, dtype: int64"
      ]
     },
     "execution_count": 71,
     "metadata": {},
     "output_type": "execute_result"
    }
   ],
   "source": [
    "frame.loc[1]"
   ]
  },
  {
   "cell_type": "code",
   "execution_count": 73,
   "id": "332caff8",
   "metadata": {},
   "outputs": [
    {
     "data": {
      "text/html": [
       "<div>\n",
       "<style scoped>\n",
       "    .dataframe tbody tr th:only-of-type {\n",
       "        vertical-align: middle;\n",
       "    }\n",
       "\n",
       "    .dataframe tbody tr th {\n",
       "        vertical-align: top;\n",
       "    }\n",
       "\n",
       "    .dataframe thead th {\n",
       "        text-align: right;\n",
       "    }\n",
       "</style>\n",
       "<table border=\"1\" class=\"dataframe\">\n",
       "  <thead>\n",
       "    <tr style=\"text-align: right;\">\n",
       "      <th></th>\n",
       "      <th>x</th>\n",
       "      <th>y</th>\n",
       "    </tr>\n",
       "  </thead>\n",
       "  <tbody>\n",
       "    <tr>\n",
       "      <th>0</th>\n",
       "      <td>1</td>\n",
       "      <td>1</td>\n",
       "    </tr>\n",
       "    <tr>\n",
       "      <th>1</th>\n",
       "      <td>2</td>\n",
       "      <td>4</td>\n",
       "    </tr>\n",
       "  </tbody>\n",
       "</table>\n",
       "</div>"
      ],
      "text/plain": [
       "   x  y\n",
       "0  1  1\n",
       "1  2  4"
      ]
     },
     "execution_count": 73,
     "metadata": {},
     "output_type": "execute_result"
    }
   ],
   "source": [
    "frame.loc[[0, 1]]"
   ]
  },
  {
   "cell_type": "code",
   "execution_count": 103,
   "id": "17873771",
   "metadata": {},
   "outputs": [
    {
     "data": {
      "text/html": [
       "<div>\n",
       "<style scoped>\n",
       "    .dataframe tbody tr th:only-of-type {\n",
       "        vertical-align: middle;\n",
       "    }\n",
       "\n",
       "    .dataframe tbody tr th {\n",
       "        vertical-align: top;\n",
       "    }\n",
       "\n",
       "    .dataframe thead th {\n",
       "        text-align: right;\n",
       "    }\n",
       "</style>\n",
       "<table border=\"1\" class=\"dataframe\">\n",
       "  <thead>\n",
       "    <tr style=\"text-align: right;\">\n",
       "      <th></th>\n",
       "      <th>Devin Singletary</th>\n",
       "      <th>Daniel Jones</th>\n",
       "    </tr>\n",
       "  </thead>\n",
       "  <tbody>\n",
       "    <tr>\n",
       "      <th>Carries</th>\n",
       "      <td>42</td>\n",
       "      <td>19</td>\n",
       "    </tr>\n",
       "    <tr>\n",
       "      <th>Yards</th>\n",
       "      <td>197</td>\n",
       "      <td>67</td>\n",
       "    </tr>\n",
       "  </tbody>\n",
       "</table>\n",
       "</div>"
      ],
      "text/plain": [
       "         Devin Singletary  Daniel Jones\n",
       "Carries                42            19\n",
       "Yards                 197            67"
      ]
     },
     "execution_count": 103,
     "metadata": {},
     "output_type": "execute_result"
    }
   ],
   "source": [
    "giants = {\n",
    "    'Devin Singletary': {'Carries': 42, 'Yards': 197, 'Touchdowns': 2, 'Fumbles': 2},\n",
    "    'Daniel Jones': {'Carries': 19, 'Yards': 67, 'Touchdowns': 0, 'Fumbles': 1},\n",
    "}\n",
    "data = pd.DataFrame(giants)\n",
    "# by default the number of lines in head is 5\n",
    "data.head(2)"
   ]
  },
  {
   "cell_type": "code",
   "execution_count": 98,
   "id": "de2a3ae8",
   "metadata": {},
   "outputs": [
    {
     "data": {
      "text/html": [
       "<div>\n",
       "<style scoped>\n",
       "    .dataframe tbody tr th:only-of-type {\n",
       "        vertical-align: middle;\n",
       "    }\n",
       "\n",
       "    .dataframe tbody tr th {\n",
       "        vertical-align: top;\n",
       "    }\n",
       "\n",
       "    .dataframe thead th {\n",
       "        text-align: right;\n",
       "    }\n",
       "</style>\n",
       "<table border=\"1\" class=\"dataframe\">\n",
       "  <thead>\n",
       "    <tr style=\"text-align: right;\">\n",
       "      <th></th>\n",
       "      <th>Devin Singletary</th>\n",
       "      <th>Daniel Jones</th>\n",
       "    </tr>\n",
       "  </thead>\n",
       "  <tbody>\n",
       "    <tr>\n",
       "      <th>Touchdowns</th>\n",
       "      <td>2</td>\n",
       "      <td>0</td>\n",
       "    </tr>\n",
       "    <tr>\n",
       "      <th>Fumbles</th>\n",
       "      <td>2</td>\n",
       "      <td>1</td>\n",
       "    </tr>\n",
       "  </tbody>\n",
       "</table>\n",
       "</div>"
      ],
      "text/plain": [
       "           Devin Singletary Daniel Jones\n",
       "Touchdowns                2            0\n",
       "Fumbles                   2            1"
      ]
     },
     "execution_count": 98,
     "metadata": {},
     "output_type": "execute_result"
    }
   ],
   "source": [
    "data.tail(2)"
   ]
  },
  {
   "cell_type": "code",
   "execution_count": 104,
   "id": "f1c3de5f",
   "metadata": {},
   "outputs": [
    {
     "data": {
      "text/html": [
       "<div>\n",
       "<style scoped>\n",
       "    .dataframe tbody tr th:only-of-type {\n",
       "        vertical-align: middle;\n",
       "    }\n",
       "\n",
       "    .dataframe tbody tr th {\n",
       "        vertical-align: top;\n",
       "    }\n",
       "\n",
       "    .dataframe thead th {\n",
       "        text-align: right;\n",
       "    }\n",
       "</style>\n",
       "<table border=\"1\" class=\"dataframe\">\n",
       "  <thead>\n",
       "    <tr style=\"text-align: right;\">\n",
       "      <th></th>\n",
       "      <th>Devin Singletary</th>\n",
       "      <th>Daniel Jones</th>\n",
       "    </tr>\n",
       "  </thead>\n",
       "  <tbody>\n",
       "    <tr>\n",
       "      <th>count</th>\n",
       "      <td>4.000000</td>\n",
       "      <td>4.000000</td>\n",
       "    </tr>\n",
       "    <tr>\n",
       "      <th>mean</th>\n",
       "      <td>60.750000</td>\n",
       "      <td>21.750000</td>\n",
       "    </tr>\n",
       "    <tr>\n",
       "      <th>std</th>\n",
       "      <td>92.769877</td>\n",
       "      <td>31.404617</td>\n",
       "    </tr>\n",
       "    <tr>\n",
       "      <th>min</th>\n",
       "      <td>2.000000</td>\n",
       "      <td>0.000000</td>\n",
       "    </tr>\n",
       "    <tr>\n",
       "      <th>25%</th>\n",
       "      <td>2.000000</td>\n",
       "      <td>0.750000</td>\n",
       "    </tr>\n",
       "    <tr>\n",
       "      <th>50%</th>\n",
       "      <td>22.000000</td>\n",
       "      <td>10.000000</td>\n",
       "    </tr>\n",
       "    <tr>\n",
       "      <th>75%</th>\n",
       "      <td>80.750000</td>\n",
       "      <td>31.000000</td>\n",
       "    </tr>\n",
       "    <tr>\n",
       "      <th>max</th>\n",
       "      <td>197.000000</td>\n",
       "      <td>67.000000</td>\n",
       "    </tr>\n",
       "  </tbody>\n",
       "</table>\n",
       "</div>"
      ],
      "text/plain": [
       "       Devin Singletary  Daniel Jones\n",
       "count          4.000000      4.000000\n",
       "mean          60.750000     21.750000\n",
       "std           92.769877     31.404617\n",
       "min            2.000000      0.000000\n",
       "25%            2.000000      0.750000\n",
       "50%           22.000000     10.000000\n",
       "75%           80.750000     31.000000\n",
       "max          197.000000     67.000000"
      ]
     },
     "execution_count": 104,
     "metadata": {},
     "output_type": "execute_result"
    }
   ],
   "source": [
    "data.describe()"
   ]
  }
 ],
 "metadata": {
  "kernelspec": {
   "display_name": "Python 3",
   "language": "python",
   "name": "python3"
  },
  "language_info": {
   "codemirror_mode": {
    "name": "ipython",
    "version": 3
   },
   "file_extension": ".py",
   "mimetype": "text/x-python",
   "name": "python",
   "nbconvert_exporter": "python",
   "pygments_lexer": "ipython3",
   "version": "3.12.6"
  }
 },
 "nbformat": 4,
 "nbformat_minor": 5
}
